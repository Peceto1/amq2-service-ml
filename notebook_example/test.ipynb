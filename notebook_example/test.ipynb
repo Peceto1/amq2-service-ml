{
 "cells": [
  {
   "cell_type": "code",
   "metadata": {
    "ExecuteTime": {
     "end_time": "2024-12-13T21:33:33.727642Z",
     "start_time": "2024-12-13T21:33:33.725188Z"
    }
   },
   "source": [
    "# Para que funciones, todos nuestros scripts debemos exportar las siguientes variables de entorno\n",
    "%env AWS_ACCESS_KEY_ID=minio   \n",
    "%env AWS_SECRET_ACCESS_KEY=minio123 \n",
    "%env MLFLOW_S3_ENDPOINT_URL=http://localhost:9000"
   ],
   "outputs": [
    {
     "name": "stdout",
     "output_type": "stream",
     "text": [
      "env: AWS_ACCESS_KEY_ID=minio\n",
      "env: AWS_SECRET_ACCESS_KEY=minio123\n",
      "env: MLFLOW_S3_ENDPOINT_URL=http://localhost:9000\n"
     ]
    }
   ],
   "execution_count": 4
  },
  {
   "cell_type": "code",
   "metadata": {
    "ExecuteTime": {
     "end_time": "2024-12-13T21:33:34.490335Z",
     "start_time": "2024-12-13T21:33:33.772641Z"
    }
   },
   "source": [
    "!echo $AWS_ACCESS_KEY_ID\n",
    "!echo $AWS_SECRET_ACCESS_KEY\n",
    "!echo $MLFLOW_S3_ENDPOINT_URL"
   ],
   "outputs": [
    {
     "name": "stdout",
     "output_type": "stream",
     "text": [
      "minio\r\n",
      "minio123\r\n",
      "http://localhost:9000\r\n"
     ]
    }
   ],
   "execution_count": 5
  },
  {
   "cell_type": "code",
   "metadata": {
    "ExecuteTime": {
     "end_time": "2024-12-13T21:33:36.744189Z",
     "start_time": "2024-12-13T21:33:34.493922Z"
    }
   },
   "source": [
    "import mlflow\n",
    "from sklearn.model_selection import train_test_split\n",
    "from sklearn.datasets import load_diabetes\n",
    "from sklearn.ensemble import RandomForestRegressor\n",
    "\n",
    "mlflow.set_tracking_uri('http://localhost:5000') \n",
    "\n",
    "# set the experiment id\n",
    "experiment_name = \"test_experiment\"\n",
    "mlflow.set_experiment(experiment_name)\n",
    "\n",
    "mlflow.autolog()\n",
    "db = load_diabetes()\n",
    "\n",
    "X_train, X_test, y_train, y_test = train_test_split(db.data, db.target)\n",
    "\n",
    "# Create and train models.\n",
    "rf = RandomForestRegressor(n_estimators=100, max_depth=6, max_features=3)\n",
    "rf.fit(X_train, y_train)\n",
    "\n",
    "# Use the model to make predictions on the test dataset.\n",
    "predictions = rf.predict(X_test)\n"
   ],
   "outputs": [
    {
     "name": "stderr",
     "output_type": "stream",
     "text": [
      "2024/12/13 18:33:34 INFO mlflow.tracking.fluent: Experiment with name 'test_experiment' does not exist. Creating a new experiment.\n",
      "2024/12/13 18:33:34 INFO mlflow.tracking.fluent: Autologging successfully enabled for sklearn.\n",
      "2024/12/13 18:33:34 INFO mlflow.utils.autologging_utils: Created MLflow autologging run with ID '6e3d7f36cfb8442fbcbf2545a4989416', which will track hyperparameters, performance metrics, model artifacts, and lineage information for the current sklearn workflow\n"
     ]
    },
    {
     "name": "stdout",
     "output_type": "stream",
     "text": [
      "🏃 View run amazing-rook-90 at: http://localhost:5000/#/experiments/2/runs/6e3d7f36cfb8442fbcbf2545a4989416\n",
      "🧪 View experiment at: http://localhost:5000/#/experiments/2\n"
     ]
    }
   ],
   "execution_count": 6
  }
 ],
 "metadata": {
  "kernelspec": {
   "display_name": "notebook_env_python3_11",
   "language": "python",
   "name": "python3"
  },
  "language_info": {
   "codemirror_mode": {
    "name": "ipython",
    "version": 3
   },
   "file_extension": ".py",
   "mimetype": "text/x-python",
   "name": "python",
   "nbconvert_exporter": "python",
   "pygments_lexer": "ipython3",
   "version": "3.11.7"
  }
 },
 "nbformat": 4,
 "nbformat_minor": 2
}
