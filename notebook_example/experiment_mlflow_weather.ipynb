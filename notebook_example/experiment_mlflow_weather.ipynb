{
 "cells": [
  {
   "cell_type": "code",
   "metadata": {
    "ExecuteTime": {
     "end_time": "2024-12-14T17:14:10.345323Z",
     "start_time": "2024-12-14T17:14:08.522668Z"
    }
   },
   "source": [
    "import awswrangler as wr\n",
    "\n",
    "import mlflow\n",
    "\n",
    "# Para que funciones, todos nuestros scripts debemos exportar las siguientes variables de entorno\n",
    "%env AWS_ACCESS_KEY_ID=minio   \n",
    "%env AWS_SECRET_ACCESS_KEY=minio123 \n",
    "%env MLFLOW_S3_ENDPOINT_URL=http://localhost:9000\n",
    "%env AWS_ENDPOINT_URL_S3=http://localhost:9000\n",
    "#%env MLFLOW_S3_ENDPOINT_URL=http://192.168.0.21:9000\n",
    "#%env AWS_ENDPOINT_URL_S3=http://192.168.0.21:9000"
   ],
   "outputs": [
    {
     "name": "stdout",
     "output_type": "stream",
     "text": [
      "env: AWS_ACCESS_KEY_ID=minio\n",
      "env: AWS_SECRET_ACCESS_KEY=minio123\n",
      "env: MLFLOW_S3_ENDPOINT_URL=http://localhost:9000\n",
      "env: AWS_ENDPOINT_URL_S3=http://localhost:9000\n"
     ]
    }
   ],
   "execution_count": 1
  },
  {
   "cell_type": "markdown",
   "metadata": {},
   "source": [
    "# Búsqueda de mejor modelo e hiperparámetros\n",
    "\n",
    "Dado nuestro dataset de Heart Disease, el cual ya pasó por el proceso de ETL y se encuentra en nuestro S3 bucket, vamos a realizar una búsqueda de cual seria el mejor modelo y que hiperparametros usar.\n",
    "\n",
    "La búsqueda de hiperparametros la haremos usando Optuna y el tracking será realizado mediante MLFlow.\n",
    "\n",
    "OBS: Para la confección de esta notebook, nos basamos en el tutorial de [MLFlow](https://mlflow.org/docs/latest/traditional-ml/hyperparameter-tuning-with-child-runs/notebooks/index.html)."
   ]
  },
  {
   "cell_type": "code",
   "metadata": {
    "ExecuteTime": {
     "end_time": "2024-12-14T17:14:10.412819Z",
     "start_time": "2024-12-14T17:14:10.410622Z"
    }
   },
   "source": [
    "mlflow_server = \"http://localhost:5000\"\n",
    "#mlflow_server = \"http://192.168.0.21:5000\"\n",
    "\n",
    "mlflow.set_tracking_uri(mlflow_server)"
   ],
   "outputs": [],
   "execution_count": 2
  },
  {
   "cell_type": "code",
   "metadata": {
    "ExecuteTime": {
     "end_time": "2024-12-14T17:14:26.107161Z",
     "start_time": "2024-12-14T17:14:10.421010Z"
    }
   },
   "source": [
    "# Cargamos los datos para realizar nuestro estudio.\n",
    "# OBS, no vamos a cargar los datos de testing, nada de Data leakage por aquí\n",
    "X_train =  wr.s3.read_csv(\"s3://data/final/train/weather_X_train.csv\")\n",
    "y_train =  wr.s3.read_csv(\"s3://data/final/train/weather_y_train.csv\")\n",
    "\n",
    "X_test =  wr.s3.read_csv(\"s3://data/final/test/weather_X_test.csv\")\n",
    "y_test =  wr.s3.read_csv(\"s3://data/final/test/weather_y_test.csv\")"
   ],
   "outputs": [
    {
     "name": "stderr",
     "output_type": "stream",
     "text": [
      "2024-12-14 14:14:11,531\tINFO worker.py:1821 -- Started a local Ray instance.\n"
     ]
    }
   ],
   "execution_count": 3
  },
  {
   "cell_type": "markdown",
   "metadata": {},
   "source": [
    "## Investigamos la correlación de features con la variable objetivo\n",
    "\n",
    "Antes de profundizar en el proceso de construcción de modelo, es esencial comprender las relaciones entre nuestras features  y la variable objetivo. Por lo que vamos a realizar un gráfico que indica el coeficiente de correlación de cada feature en relación con la variable objetivo. Esto nos sirve para:\n",
    "\n",
    "- Evitar data leakage: Debemos asegurarnos de que ninguna característica se correlacione perfectamente con el objetivo (un coeficiente de correlación de aproximadamente 1.0). Si existe tal correlación, es una señal de que nuestro conjunto de datos podría estar \"filtrando\" información sobre el objetivo. \n",
    "\n",
    "- Garantizar relaciones significativas: Idealmente, nuestras características deberían tener algún grado de correlación con el objetivo. Inclusive si estamos trabajando con un problema de clasificación, aunque los resultados no son tan importantes como en un caso de regresión.\n",
    "\n",
    "- Auditoría y trazabilidad: Loggear esta visualización de correlación con nuestra ejecución principal de MLflow garantiza la trazabilidad. Proporciona una instantánea de las características de los datos en el momento del entrenamiento del modelo, lo cual es invaluable para propósitos de auditoría y replicabilidad."
   ]
  },
  {
   "cell_type": "code",
   "metadata": {
    "ExecuteTime": {
     "end_time": "2024-12-14T17:14:26.935238Z",
     "start_time": "2024-12-14T17:14:26.161285Z"
    }
   },
   "source": [
    "from plots import plot_correlation_with_target, plot_information_gain_with_target"
   ],
   "outputs": [],
   "execution_count": 4
  },
  {
   "cell_type": "code",
   "metadata": {
    "ExecuteTime": {
     "end_time": "2024-12-14T17:15:37.161127Z",
     "start_time": "2024-12-14T17:15:36.375455Z"
    }
   },
   "source": [
    "# Dado que estamos usando como tracking a MLFlow, mostrar los gráficos aquí no tiene sentido.\n",
    "correlation_plot = plot_correlation_with_target(X_train, y_train,target_col='RainTomorrow')\n",
    "information_gain_plot = plot_information_gain_with_target(X_train, y_train,target_col='RainTomorrow')"
   ],
   "outputs": [],
   "execution_count": 6
  },
  {
   "cell_type": "markdown",
   "metadata": {},
   "source": [
    "## Arrancamos a experimentar"
   ]
  },
  {
   "cell_type": "code",
   "metadata": {
    "ExecuteTime": {
     "end_time": "2024-12-14T17:15:40.547337Z",
     "start_time": "2024-12-14T17:15:40.297478Z"
    }
   },
   "source": [
    "import datetime\n",
    "import optuna\n",
    "\n",
    "from mlflow.models import infer_signature\n",
    "from mlflow_aux import get_or_create_experiment\n",
    "\n",
    "from optuna_aux import champion_callback, objective\n",
    "\n",
    "from sklearn.svm import SVC \n",
    "from sklearn.tree import DecisionTreeClassifier\n",
    "from sklearn.ensemble import RandomForestClassifier\n",
    "from sklearn.metrics import f1_score\n",
    "\n",
    "# Optuna es un poco verboso, dejamos que solo nos muestre logs de errores\n",
    "optuna.logging.set_verbosity(optuna.logging.ERROR)"
   ],
   "outputs": [],
   "execution_count": 7
  },
  {
   "cell_type": "markdown",
   "metadata": {},
   "source": [
    "Antes de poder realizar experimentos, vamos a crear el experimento en MLFLow, pero para evitar desorden, vamos a usar una función que se fije primero si el experimento existe, si esto es así, devuelve su ID.\n",
    "\n",
    "Además creamos el nombre del run padre con el que vamos a ir registrando las ejecuciones."
   ]
  },
  {
   "cell_type": "code",
   "metadata": {
    "ExecuteTime": {
     "end_time": "2024-12-14T17:15:46.753276Z",
     "start_time": "2024-12-14T17:15:46.733521Z"
    }
   },
   "source": [
    "# Creemos el experimento\n",
    "experiment_id = get_or_create_experiment(\"Weather in AUS\")\n",
    "print(experiment_id)\n",
    "\n",
    "run_name_parent = \"best_hyperparam_\"  + datetime.datetime.today().strftime('%Y/%m/%d-%H:%M:%S\"')"
   ],
   "outputs": [
    {
     "name": "stdout",
     "output_type": "stream",
     "text": [
      "3\n"
     ]
    }
   ],
   "execution_count": 8
  },
  {
   "cell_type": "markdown",
   "metadata": {},
   "source": [
    "Ya con todo seteado, vamos a ejecutar la optimización usando Optuna, el cual realiza una búsqueda Bayesiana, la cual es más eficiente que una búsqueda de grilla tradicional. La desventaja es que es más difícil de paralelizar."
   ]
  },
  {
   "cell_type": "code",
   "metadata": {
    "ExecuteTime": {
     "end_time": "2024-12-14T17:25:01.716030Z",
     "start_time": "2024-12-14T17:15:48.871708Z"
    }
   },
   "source": [
    "with mlflow.start_run(experiment_id=experiment_id, run_name=run_name_parent, nested=True):\n",
    "    # Inicializamos el estudio de Optuna\n",
    "    study = optuna.create_study(direction=\"maximize\")\n",
    "\n",
    "    # Ejecutamos los trials de optimización de hiperparametros. Cada uno de estos trials se ejecuta con un run separado, pero \n",
    "    # está anidado al run padre.\n",
    "    # Notar la adición del `champion_callback` para controlar qué mensajes mostramos\n",
    "    # Para entender mejor esto ver la documentación de objective y champion_callback en optuna_aux\n",
    "    study.optimize(lambda trial: objective(trial, X_train, y_train, experiment_id), n_trials=100, callbacks=[champion_callback])\n",
    "\n",
    "    # Una vez que terminamos la búsqueda, guardamos los mejores parámetros en el run padre.\n",
    "    mlflow.log_params(study.best_params)\n",
    "    mlflow.log_metric(\"best_train_f1\", study.best_value)\n",
    "\n",
    "    mlflow.set_tags(\n",
    "        tags={\n",
    "            \"project\": \"Weather in AUS\",\n",
    "            \"optimizer_engine\": \"optuna\",\n",
    "            \"model_family\": \"sklearn\",\n",
    "            \"feature_set_version\": 1,\n",
    "        }\n",
    "    )\n",
    "\n",
    "    # Una vez que terminamos la búsqueda, nos quedamos con el mejor modelo y lo entrenamos\n",
    "    if study.best_params[\"classifier\"] == \"SVC_linear\":\n",
    "        model = SVC(C=study.best_params[\"svc_c\"], kernel='linear', gamma='scale')\n",
    "    elif study.best_params[\"classifier\"] == \"SVC_poly\":\n",
    "        model = SVC(C=study.best_params[\"svc_c\"], kernel='poly', \n",
    "                    gamma='scale', degree=study.best_params[\"svc_poly_degree\"])\n",
    "    elif study.best_params[\"classifier\"] == \"SVC_rbf\":\n",
    "        model = SVC(C=study.best_params[\"svc_c\"], kernel='rbf', gamma='scale')\n",
    "    elif study.best_params[\"classifier\"] == \"DecisionTreeClassifier\":\n",
    "        model = DecisionTreeClassifier(max_depth=study.best_params[\"tree_max_depth\"])\n",
    "    else:\n",
    "        model = RandomForestClassifier(max_depth=study.best_params[\"rf_max_depth\"], \n",
    "                                       n_estimators=study.best_params[\"rf_n_estimators\"])\n",
    "\n",
    "    model = model.fit(X_train, y_train.to_numpy().ravel())\n",
    "\n",
    "    # Y testeamos el modelo y logueamos el resultado\n",
    "    y_pred = model.predict(X_test)\n",
    "    f1_score = f1_score(y_test.to_numpy().ravel(), y_pred)\n",
    "    mlflow.log_metric(\"test_f1\", f1_score)\n",
    "\n",
    "    # Logueamos los artefactos de las gráficas de correlación y de information_gain\n",
    "    mlflow.log_figure(figure=correlation_plot, artifact_file=\"correlation_plot.png\")\n",
    "    mlflow.log_figure(figure=information_gain_plot, artifact_file=\"information_gain_plot.png\")\n",
    "\n",
    "    # Guardamos el artefacto del modelo\n",
    "    artifact_path = \"model\"\n",
    "\n",
    "    signature = infer_signature(X_train, model.predict(X_train))\n",
    "\n",
    "    mlflow.sklearn.log_model(\n",
    "        sk_model=model,\n",
    "        artifact_path=artifact_path,\n",
    "        signature=signature,\n",
    "        serialization_format='cloudpickle',\n",
    "        registered_model_name=\"weather_model_dev\",\n",
    "        metadata={\"model_data_version\": 1}\n",
    "    )\n",
    "\n",
    "    # Obtenemos la ubicación del modelo guardado en MLFlow\n",
    "    model_uri = mlflow.get_artifact_uri(artifact_path)\n"
   ],
   "outputs": [
    {
     "name": "stdout",
     "output_type": "stream",
     "text": [
      "🏃 View run Trial: 0 at: http://localhost:5000/#/experiments/3/runs/1e2537e0a270407a8b35f0a3a7076e82\n",
      "🧪 View experiment at: http://localhost:5000/#/experiments/3\n",
      "Initial trial 0 achieved value: 0.45656321278711653\n",
      "🏃 View run Trial: 1 at: http://localhost:5000/#/experiments/3/runs/16ff00131d0d45eb8c746b615378eb0f\n",
      "🧪 View experiment at: http://localhost:5000/#/experiments/3\n",
      "Trial 1 achieved value: 0.5913099812864194 with  22.7878% improvement\n",
      "🏃 View run Trial: 2 at: http://localhost:5000/#/experiments/3/runs/f511fe667ab243ca8d5177c2b85312e6\n",
      "🧪 View experiment at: http://localhost:5000/#/experiments/3\n",
      "Trial 2 achieved value: 0.609377521129043 with  2.9649% improvement\n",
      "🏃 View run Trial: 3 at: http://localhost:5000/#/experiments/3/runs/55073206d4974ba2b7e94882295bd565\n",
      "🧪 View experiment at: http://localhost:5000/#/experiments/3\n",
      "🏃 View run Trial: 4 at: http://localhost:5000/#/experiments/3/runs/ed2b46f81adb4962a5cac23c11702c0f\n",
      "🧪 View experiment at: http://localhost:5000/#/experiments/3\n",
      "🏃 View run Trial: 5 at: http://localhost:5000/#/experiments/3/runs/d1e6f82ed4954a92b906db120575322b\n",
      "🧪 View experiment at: http://localhost:5000/#/experiments/3\n",
      "🏃 View run Trial: 6 at: http://localhost:5000/#/experiments/3/runs/52ae1862c56c43819bbf4fb5ee26a0a6\n",
      "🧪 View experiment at: http://localhost:5000/#/experiments/3\n",
      "🏃 View run Trial: 7 at: http://localhost:5000/#/experiments/3/runs/ce5789f00ed241918994d896df50ee43\n",
      "🧪 View experiment at: http://localhost:5000/#/experiments/3\n",
      "🏃 View run Trial: 8 at: http://localhost:5000/#/experiments/3/runs/71dbc3ec80f34f959ee472195bcf9aba\n",
      "🧪 View experiment at: http://localhost:5000/#/experiments/3\n",
      "🏃 View run Trial: 9 at: http://localhost:5000/#/experiments/3/runs/ec634f9437714c46ae0cded00b9a0efe\n",
      "🧪 View experiment at: http://localhost:5000/#/experiments/3\n",
      "🏃 View run Trial: 10 at: http://localhost:5000/#/experiments/3/runs/7e9a6f2eba55471ab581195b924cacd7\n",
      "🧪 View experiment at: http://localhost:5000/#/experiments/3\n",
      "🏃 View run Trial: 11 at: http://localhost:5000/#/experiments/3/runs/d634a3d2be3c4ec2a9c3de01175e2bca\n",
      "🧪 View experiment at: http://localhost:5000/#/experiments/3\n",
      "🏃 View run Trial: 12 at: http://localhost:5000/#/experiments/3/runs/d4a3c1e7b9d84c9e86741d3f137e3869\n",
      "🧪 View experiment at: http://localhost:5000/#/experiments/3\n",
      "Trial 12 achieved value: 0.6097242383885403 with  0.0569% improvement\n",
      "🏃 View run Trial: 13 at: http://localhost:5000/#/experiments/3/runs/2ca35cd33304494eb04613de988998b2\n",
      "🧪 View experiment at: http://localhost:5000/#/experiments/3\n",
      "🏃 View run Trial: 14 at: http://localhost:5000/#/experiments/3/runs/2d87b76c39b74d6e8de66872e9ca7593\n",
      "🧪 View experiment at: http://localhost:5000/#/experiments/3\n",
      "Trial 14 achieved value: 0.6098165895140697 with  0.0151% improvement\n",
      "🏃 View run Trial: 15 at: http://localhost:5000/#/experiments/3/runs/42b53af181f14bcd990014a7b344f2ef\n",
      "🧪 View experiment at: http://localhost:5000/#/experiments/3\n",
      "🏃 View run Trial: 16 at: http://localhost:5000/#/experiments/3/runs/0e758f163f334c429a9310ca4157b770\n",
      "🧪 View experiment at: http://localhost:5000/#/experiments/3\n",
      "🏃 View run Trial: 17 at: http://localhost:5000/#/experiments/3/runs/f46ad96c50d84488a61926c0094996c9\n",
      "🧪 View experiment at: http://localhost:5000/#/experiments/3\n",
      "🏃 View run Trial: 18 at: http://localhost:5000/#/experiments/3/runs/4b199a19738e4d90b8352951c7ef4d97\n",
      "🧪 View experiment at: http://localhost:5000/#/experiments/3\n",
      "🏃 View run Trial: 19 at: http://localhost:5000/#/experiments/3/runs/0da51e82ae82455480eae50e96ca9daa\n",
      "🧪 View experiment at: http://localhost:5000/#/experiments/3\n",
      "🏃 View run Trial: 20 at: http://localhost:5000/#/experiments/3/runs/fe30afd8cfb146f99485564bc01cc3d8\n",
      "🧪 View experiment at: http://localhost:5000/#/experiments/3\n",
      "🏃 View run Trial: 21 at: http://localhost:5000/#/experiments/3/runs/99459b2d17da4f7388f426515a3cf580\n",
      "🧪 View experiment at: http://localhost:5000/#/experiments/3\n",
      "🏃 View run Trial: 22 at: http://localhost:5000/#/experiments/3/runs/c5ac5ae2b06e43eead4f41d72eed23b0\n",
      "🧪 View experiment at: http://localhost:5000/#/experiments/3\n",
      "🏃 View run Trial: 23 at: http://localhost:5000/#/experiments/3/runs/4a22f18fcb8444c78d2dd5f1e563ac2e\n",
      "🧪 View experiment at: http://localhost:5000/#/experiments/3\n",
      "🏃 View run Trial: 24 at: http://localhost:5000/#/experiments/3/runs/e002ff7a205d43299360b2f9f4d2f818\n",
      "🧪 View experiment at: http://localhost:5000/#/experiments/3\n",
      "🏃 View run Trial: 25 at: http://localhost:5000/#/experiments/3/runs/f6d9e6ce420f4cc391080d288bbea7b4\n",
      "🧪 View experiment at: http://localhost:5000/#/experiments/3\n",
      "🏃 View run Trial: 26 at: http://localhost:5000/#/experiments/3/runs/dd5aec2a128547aea952a26ebc69908d\n",
      "🧪 View experiment at: http://localhost:5000/#/experiments/3\n",
      "🏃 View run Trial: 27 at: http://localhost:5000/#/experiments/3/runs/511a13fb125f4052aaf6b5fae32db1c2\n",
      "🧪 View experiment at: http://localhost:5000/#/experiments/3\n",
      "Trial 27 achieved value: 0.6115824409653798 with  0.2887% improvement\n",
      "🏃 View run Trial: 28 at: http://localhost:5000/#/experiments/3/runs/e4e16c5e13354538b9a85697fed4135c\n",
      "🧪 View experiment at: http://localhost:5000/#/experiments/3\n",
      "🏃 View run Trial: 29 at: http://localhost:5000/#/experiments/3/runs/75f1ff7760534f14b8de9b84812f0455\n",
      "🧪 View experiment at: http://localhost:5000/#/experiments/3\n",
      "🏃 View run Trial: 30 at: http://localhost:5000/#/experiments/3/runs/3e8b6b84b2624e47976c10577d5a4402\n",
      "🧪 View experiment at: http://localhost:5000/#/experiments/3\n",
      "🏃 View run Trial: 31 at: http://localhost:5000/#/experiments/3/runs/06b68daf06ce40268c9a48b7d8aced77\n",
      "🧪 View experiment at: http://localhost:5000/#/experiments/3\n",
      "🏃 View run Trial: 32 at: http://localhost:5000/#/experiments/3/runs/b53d1b0a06e94470a332dfc653ec6873\n",
      "🧪 View experiment at: http://localhost:5000/#/experiments/3\n",
      "🏃 View run Trial: 33 at: http://localhost:5000/#/experiments/3/runs/a9eaeb78a5be4ea393d94002a3500a8e\n",
      "🧪 View experiment at: http://localhost:5000/#/experiments/3\n",
      "🏃 View run Trial: 34 at: http://localhost:5000/#/experiments/3/runs/77f58e8c3a394798babf9cbf1a3e13f3\n",
      "🧪 View experiment at: http://localhost:5000/#/experiments/3\n",
      "🏃 View run Trial: 35 at: http://localhost:5000/#/experiments/3/runs/df4cd4c99a4e4f70b112faca5bbfcb6f\n",
      "🧪 View experiment at: http://localhost:5000/#/experiments/3\n",
      "🏃 View run Trial: 36 at: http://localhost:5000/#/experiments/3/runs/58d3dda30f47427ca0273e8e063570ac\n",
      "🧪 View experiment at: http://localhost:5000/#/experiments/3\n",
      "🏃 View run Trial: 37 at: http://localhost:5000/#/experiments/3/runs/9b3a0376189a4483bf84c2048166d14e\n",
      "🧪 View experiment at: http://localhost:5000/#/experiments/3\n",
      "🏃 View run Trial: 38 at: http://localhost:5000/#/experiments/3/runs/bd7c2f771a944fadb8afaaa8aba17b79\n",
      "🧪 View experiment at: http://localhost:5000/#/experiments/3\n",
      "🏃 View run Trial: 39 at: http://localhost:5000/#/experiments/3/runs/c998be4dab6e491eaafe4d57c5bc7daf\n",
      "🧪 View experiment at: http://localhost:5000/#/experiments/3\n",
      "🏃 View run Trial: 40 at: http://localhost:5000/#/experiments/3/runs/0ef0d5d0f3a3491c8eed0599464f2874\n",
      "🧪 View experiment at: http://localhost:5000/#/experiments/3\n",
      "🏃 View run Trial: 41 at: http://localhost:5000/#/experiments/3/runs/47bb209dce59489595a9dd5e08cf1dfc\n",
      "🧪 View experiment at: http://localhost:5000/#/experiments/3\n",
      "🏃 View run Trial: 42 at: http://localhost:5000/#/experiments/3/runs/300553b330094361aad1622d81edce1a\n",
      "🧪 View experiment at: http://localhost:5000/#/experiments/3\n",
      "🏃 View run Trial: 43 at: http://localhost:5000/#/experiments/3/runs/281bbe477d4f40cb8ddd411417b48bcb\n",
      "🧪 View experiment at: http://localhost:5000/#/experiments/3\n",
      "🏃 View run Trial: 44 at: http://localhost:5000/#/experiments/3/runs/aa54107a614b4a1ebb988f7fe3ab7866\n",
      "🧪 View experiment at: http://localhost:5000/#/experiments/3\n",
      "🏃 View run Trial: 45 at: http://localhost:5000/#/experiments/3/runs/9c04a28e8bd843d9b3e56b4ecf706d3e\n",
      "🧪 View experiment at: http://localhost:5000/#/experiments/3\n",
      "🏃 View run Trial: 46 at: http://localhost:5000/#/experiments/3/runs/5f77101af68144b4a880c20bd74b428e\n",
      "🧪 View experiment at: http://localhost:5000/#/experiments/3\n",
      "🏃 View run Trial: 47 at: http://localhost:5000/#/experiments/3/runs/8f8dbab0ba8a4ed98d3f73377a743aea\n",
      "🧪 View experiment at: http://localhost:5000/#/experiments/3\n",
      "🏃 View run Trial: 48 at: http://localhost:5000/#/experiments/3/runs/62a1aa9c99c547d5a1168dfc33a356b0\n",
      "🧪 View experiment at: http://localhost:5000/#/experiments/3\n",
      "🏃 View run Trial: 49 at: http://localhost:5000/#/experiments/3/runs/5269118d39974b05b5acfa87d5ff2639\n",
      "🧪 View experiment at: http://localhost:5000/#/experiments/3\n",
      "🏃 View run Trial: 50 at: http://localhost:5000/#/experiments/3/runs/9f1b29f575514f96bc0f9bc1dd35ee4e\n",
      "🧪 View experiment at: http://localhost:5000/#/experiments/3\n",
      "🏃 View run Trial: 51 at: http://localhost:5000/#/experiments/3/runs/377bf670671c43d183505036e1e36512\n",
      "🧪 View experiment at: http://localhost:5000/#/experiments/3\n",
      "🏃 View run Trial: 52 at: http://localhost:5000/#/experiments/3/runs/56b5bfc5a591445fb4e0a4c18e529284\n",
      "🧪 View experiment at: http://localhost:5000/#/experiments/3\n",
      "🏃 View run Trial: 53 at: http://localhost:5000/#/experiments/3/runs/f31cbd6d71874bb39ba26f75dbc41392\n",
      "🧪 View experiment at: http://localhost:5000/#/experiments/3\n",
      "🏃 View run Trial: 54 at: http://localhost:5000/#/experiments/3/runs/f8116a95a0084fa297a70cca475d4f77\n",
      "🧪 View experiment at: http://localhost:5000/#/experiments/3\n",
      "🏃 View run Trial: 55 at: http://localhost:5000/#/experiments/3/runs/16b4ce90b5fd4a6cb202c8a7ea382b4e\n",
      "🧪 View experiment at: http://localhost:5000/#/experiments/3\n",
      "🏃 View run Trial: 56 at: http://localhost:5000/#/experiments/3/runs/7f1987ddc856458bb172823f322c6555\n",
      "🧪 View experiment at: http://localhost:5000/#/experiments/3\n",
      "🏃 View run Trial: 57 at: http://localhost:5000/#/experiments/3/runs/430cf59dc27f444fa835a9d22fd72add\n",
      "🧪 View experiment at: http://localhost:5000/#/experiments/3\n",
      "🏃 View run Trial: 58 at: http://localhost:5000/#/experiments/3/runs/bc5a7e3ba4294d8fae2c4a1b9975bb2c\n",
      "🧪 View experiment at: http://localhost:5000/#/experiments/3\n",
      "🏃 View run Trial: 59 at: http://localhost:5000/#/experiments/3/runs/d72b9dfb0a7c49989284adb8dd46ab1a\n",
      "🧪 View experiment at: http://localhost:5000/#/experiments/3\n",
      "🏃 View run Trial: 60 at: http://localhost:5000/#/experiments/3/runs/b4c75336e57440638847cab10096417b\n",
      "🧪 View experiment at: http://localhost:5000/#/experiments/3\n",
      "🏃 View run Trial: 61 at: http://localhost:5000/#/experiments/3/runs/66bb70f764cf4d0fb0e6fd96f408a003\n",
      "🧪 View experiment at: http://localhost:5000/#/experiments/3\n",
      "🏃 View run Trial: 62 at: http://localhost:5000/#/experiments/3/runs/917e8b329bc9425e87d3591b3feec772\n",
      "🧪 View experiment at: http://localhost:5000/#/experiments/3\n",
      "🏃 View run Trial: 63 at: http://localhost:5000/#/experiments/3/runs/a2a7c2ffd09348ae9e331590f4f796ef\n",
      "🧪 View experiment at: http://localhost:5000/#/experiments/3\n",
      "🏃 View run Trial: 64 at: http://localhost:5000/#/experiments/3/runs/9f60b0e891f242b887745e9824564c19\n",
      "🧪 View experiment at: http://localhost:5000/#/experiments/3\n",
      "Trial 64 achieved value: 0.6126223585828882 with  0.1697% improvement\n",
      "🏃 View run Trial: 65 at: http://localhost:5000/#/experiments/3/runs/3423493e6afa49ceaf6c09b0fcf8b37d\n",
      "🧪 View experiment at: http://localhost:5000/#/experiments/3\n",
      "🏃 View run Trial: 66 at: http://localhost:5000/#/experiments/3/runs/8b92d2693a66461d9854cca90323faba\n",
      "🧪 View experiment at: http://localhost:5000/#/experiments/3\n",
      "🏃 View run Trial: 67 at: http://localhost:5000/#/experiments/3/runs/c0de85000f04401eb3ad1630079e9524\n",
      "🧪 View experiment at: http://localhost:5000/#/experiments/3\n",
      "🏃 View run Trial: 68 at: http://localhost:5000/#/experiments/3/runs/1323b77740e645748a659637942d3dea\n",
      "🧪 View experiment at: http://localhost:5000/#/experiments/3\n",
      "🏃 View run Trial: 69 at: http://localhost:5000/#/experiments/3/runs/0e4e01a1b2924f04ad1e0166f84e0996\n",
      "🧪 View experiment at: http://localhost:5000/#/experiments/3\n",
      "🏃 View run Trial: 70 at: http://localhost:5000/#/experiments/3/runs/625f2f6c8a9d4880832ae568b38db05a\n",
      "🧪 View experiment at: http://localhost:5000/#/experiments/3\n",
      "🏃 View run Trial: 71 at: http://localhost:5000/#/experiments/3/runs/c38d2ccaaccc438181102df1f2fb556b\n",
      "🧪 View experiment at: http://localhost:5000/#/experiments/3\n",
      "🏃 View run Trial: 72 at: http://localhost:5000/#/experiments/3/runs/93d1816b61ed4fb592fe6f5bb9978feb\n",
      "🧪 View experiment at: http://localhost:5000/#/experiments/3\n",
      "🏃 View run Trial: 73 at: http://localhost:5000/#/experiments/3/runs/bf01d92380b246faa5cf5decd81f3667\n",
      "🧪 View experiment at: http://localhost:5000/#/experiments/3\n",
      "🏃 View run Trial: 74 at: http://localhost:5000/#/experiments/3/runs/33fe8be394664b11bbd2aa4aea9adb9d\n",
      "🧪 View experiment at: http://localhost:5000/#/experiments/3\n",
      "🏃 View run Trial: 75 at: http://localhost:5000/#/experiments/3/runs/dc0641cb01104e9cbe15282de0ce11bd\n",
      "🧪 View experiment at: http://localhost:5000/#/experiments/3\n",
      "🏃 View run Trial: 76 at: http://localhost:5000/#/experiments/3/runs/597eb780231d4c8c9b007f5ed8e417e6\n",
      "🧪 View experiment at: http://localhost:5000/#/experiments/3\n",
      "🏃 View run Trial: 77 at: http://localhost:5000/#/experiments/3/runs/5a9b229ebfab495a86db72b1cda63b40\n",
      "🧪 View experiment at: http://localhost:5000/#/experiments/3\n",
      "🏃 View run Trial: 78 at: http://localhost:5000/#/experiments/3/runs/872367600fed49e88b14476ddec408f0\n",
      "🧪 View experiment at: http://localhost:5000/#/experiments/3\n",
      "🏃 View run Trial: 79 at: http://localhost:5000/#/experiments/3/runs/5a4196c8aa064b47a8f166dcd74193ce\n",
      "🧪 View experiment at: http://localhost:5000/#/experiments/3\n",
      "🏃 View run Trial: 80 at: http://localhost:5000/#/experiments/3/runs/0122323d410946969ac6615075131dd9\n",
      "🧪 View experiment at: http://localhost:5000/#/experiments/3\n",
      "🏃 View run Trial: 81 at: http://localhost:5000/#/experiments/3/runs/82263c56c8dd4d76a1e936e1879677d6\n",
      "🧪 View experiment at: http://localhost:5000/#/experiments/3\n",
      "🏃 View run Trial: 82 at: http://localhost:5000/#/experiments/3/runs/31ba8d807e614528b62f9304a88f38ed\n",
      "🧪 View experiment at: http://localhost:5000/#/experiments/3\n",
      "🏃 View run Trial: 83 at: http://localhost:5000/#/experiments/3/runs/d7e447ce0b6548199817ed70b57334b4\n",
      "🧪 View experiment at: http://localhost:5000/#/experiments/3\n",
      "🏃 View run Trial: 84 at: http://localhost:5000/#/experiments/3/runs/f8ebee12b1af40e2b73de46d37552715\n",
      "🧪 View experiment at: http://localhost:5000/#/experiments/3\n",
      "🏃 View run Trial: 85 at: http://localhost:5000/#/experiments/3/runs/d249eb9262ce4fba84771abb82e0885a\n",
      "🧪 View experiment at: http://localhost:5000/#/experiments/3\n",
      "🏃 View run Trial: 86 at: http://localhost:5000/#/experiments/3/runs/13b05eff1da8449d8e9163bd76fd891a\n",
      "🧪 View experiment at: http://localhost:5000/#/experiments/3\n",
      "🏃 View run Trial: 87 at: http://localhost:5000/#/experiments/3/runs/f07c73fab38f45a0984b14a1339644b9\n",
      "🧪 View experiment at: http://localhost:5000/#/experiments/3\n",
      "🏃 View run Trial: 88 at: http://localhost:5000/#/experiments/3/runs/7466adb0946d498ba545b632e690c030\n",
      "🧪 View experiment at: http://localhost:5000/#/experiments/3\n",
      "🏃 View run Trial: 89 at: http://localhost:5000/#/experiments/3/runs/19877d9ec493426fa0a0254fbfeb6ff3\n",
      "🧪 View experiment at: http://localhost:5000/#/experiments/3\n",
      "🏃 View run Trial: 90 at: http://localhost:5000/#/experiments/3/runs/08f1e7fe23ed41ed91d6ed95b5902aa2\n",
      "🧪 View experiment at: http://localhost:5000/#/experiments/3\n",
      "🏃 View run Trial: 91 at: http://localhost:5000/#/experiments/3/runs/3c16dca288df440eb863efe72817fb9e\n",
      "🧪 View experiment at: http://localhost:5000/#/experiments/3\n",
      "🏃 View run Trial: 92 at: http://localhost:5000/#/experiments/3/runs/1aa083d4e7064516af8aaec7c87e019c\n",
      "🧪 View experiment at: http://localhost:5000/#/experiments/3\n",
      "🏃 View run Trial: 93 at: http://localhost:5000/#/experiments/3/runs/63c119c354c64c26a430a35ccb63e210\n",
      "🧪 View experiment at: http://localhost:5000/#/experiments/3\n",
      "🏃 View run Trial: 94 at: http://localhost:5000/#/experiments/3/runs/81c6d4d29587406cb5e3e7a998146cf3\n",
      "🧪 View experiment at: http://localhost:5000/#/experiments/3\n",
      "🏃 View run Trial: 95 at: http://localhost:5000/#/experiments/3/runs/0a8924eff51848e798f7d8dca6685755\n",
      "🧪 View experiment at: http://localhost:5000/#/experiments/3\n",
      "🏃 View run Trial: 96 at: http://localhost:5000/#/experiments/3/runs/9f1699f841bf4b33958aef5190ea6c10\n",
      "🧪 View experiment at: http://localhost:5000/#/experiments/3\n",
      "🏃 View run Trial: 97 at: http://localhost:5000/#/experiments/3/runs/05a7ec3f50924f4d93ccb91859eb8202\n",
      "🧪 View experiment at: http://localhost:5000/#/experiments/3\n",
      "🏃 View run Trial: 98 at: http://localhost:5000/#/experiments/3/runs/417e7e00809a4419b173cffeb4e059ba\n",
      "🧪 View experiment at: http://localhost:5000/#/experiments/3\n",
      "🏃 View run Trial: 99 at: http://localhost:5000/#/experiments/3/runs/1957731905da4f089704f7d55f932695\n",
      "🧪 View experiment at: http://localhost:5000/#/experiments/3\n",
      "🏃 View run Trial: 100 at: http://localhost:5000/#/experiments/3/runs/f82f0e525a954e3aa8c1c118e91052ae\n",
      "🧪 View experiment at: http://localhost:5000/#/experiments/3\n",
      "🏃 View run Trial: 101 at: http://localhost:5000/#/experiments/3/runs/38370af4228943ea9adecd3a7391992b\n",
      "🧪 View experiment at: http://localhost:5000/#/experiments/3\n",
      "🏃 View run Trial: 102 at: http://localhost:5000/#/experiments/3/runs/ce590ea277c74434a404267579f4b0ea\n",
      "🧪 View experiment at: http://localhost:5000/#/experiments/3\n",
      "🏃 View run Trial: 103 at: http://localhost:5000/#/experiments/3/runs/f99877c99555477a8c015afa7ed79c68\n",
      "🧪 View experiment at: http://localhost:5000/#/experiments/3\n",
      "🏃 View run Trial: 104 at: http://localhost:5000/#/experiments/3/runs/95a00de3462b45e0a1da9123f45c09df\n",
      "🧪 View experiment at: http://localhost:5000/#/experiments/3\n",
      "🏃 View run Trial: 105 at: http://localhost:5000/#/experiments/3/runs/8a065459463743aebb6aac6b1c9ef74e\n",
      "🧪 View experiment at: http://localhost:5000/#/experiments/3\n",
      "🏃 View run Trial: 106 at: http://localhost:5000/#/experiments/3/runs/e2b8aed904b14ad4bc3b24ab204fdac7\n",
      "🧪 View experiment at: http://localhost:5000/#/experiments/3\n",
      "🏃 View run Trial: 107 at: http://localhost:5000/#/experiments/3/runs/356b670b4a2c4e788802e8d2152091c8\n",
      "🧪 View experiment at: http://localhost:5000/#/experiments/3\n",
      "🏃 View run Trial: 108 at: http://localhost:5000/#/experiments/3/runs/753c67304cfa4da6b1aa640470a257ee\n",
      "🧪 View experiment at: http://localhost:5000/#/experiments/3\n",
      "🏃 View run Trial: 109 at: http://localhost:5000/#/experiments/3/runs/cd743ef9bd334e82bec2c1f71fa0b329\n",
      "🧪 View experiment at: http://localhost:5000/#/experiments/3\n",
      "🏃 View run Trial: 110 at: http://localhost:5000/#/experiments/3/runs/0df1a4e7495c43819e1e6b6f1db3ec22\n",
      "🧪 View experiment at: http://localhost:5000/#/experiments/3\n",
      "🏃 View run Trial: 111 at: http://localhost:5000/#/experiments/3/runs/cdbea0fb4c914d70a541e38680396395\n",
      "🧪 View experiment at: http://localhost:5000/#/experiments/3\n",
      "🏃 View run Trial: 112 at: http://localhost:5000/#/experiments/3/runs/d26999f250d74f0781c3b4fd31261b37\n",
      "🧪 View experiment at: http://localhost:5000/#/experiments/3\n",
      "🏃 View run Trial: 113 at: http://localhost:5000/#/experiments/3/runs/ff0fe3e32a8c4823a52f8fa29a62994b\n",
      "🧪 View experiment at: http://localhost:5000/#/experiments/3\n",
      "🏃 View run Trial: 114 at: http://localhost:5000/#/experiments/3/runs/5603dbbf79d54ee0ac7bc4cb81e56d99\n",
      "🧪 View experiment at: http://localhost:5000/#/experiments/3\n",
      "🏃 View run Trial: 115 at: http://localhost:5000/#/experiments/3/runs/4398f902a4254380ad3641f2bcacc408\n",
      "🧪 View experiment at: http://localhost:5000/#/experiments/3\n",
      "🏃 View run Trial: 116 at: http://localhost:5000/#/experiments/3/runs/2baa808b3e2143498de32a509bcb2605\n",
      "🧪 View experiment at: http://localhost:5000/#/experiments/3\n",
      "🏃 View run Trial: 117 at: http://localhost:5000/#/experiments/3/runs/b2bee65ba9374f549b465200a2800a44\n",
      "🧪 View experiment at: http://localhost:5000/#/experiments/3\n",
      "🏃 View run Trial: 118 at: http://localhost:5000/#/experiments/3/runs/e004cb02e5be4e1386bec8c8a17577bd\n",
      "🧪 View experiment at: http://localhost:5000/#/experiments/3\n",
      "🏃 View run Trial: 119 at: http://localhost:5000/#/experiments/3/runs/3463ff1b437e42b3b6329f83507eed34\n",
      "🧪 View experiment at: http://localhost:5000/#/experiments/3\n",
      "🏃 View run Trial: 120 at: http://localhost:5000/#/experiments/3/runs/64ef23e61c9c46c3920438bc2aea9220\n",
      "🧪 View experiment at: http://localhost:5000/#/experiments/3\n",
      "🏃 View run Trial: 121 at: http://localhost:5000/#/experiments/3/runs/9aeb85621fb34edabd164b7e6a70e928\n",
      "🧪 View experiment at: http://localhost:5000/#/experiments/3\n",
      "🏃 View run Trial: 122 at: http://localhost:5000/#/experiments/3/runs/fbd8bf6095d445fdafe9eac4298fa0ab\n",
      "🧪 View experiment at: http://localhost:5000/#/experiments/3\n",
      "🏃 View run Trial: 123 at: http://localhost:5000/#/experiments/3/runs/c7abb61ae7494bdd8c35ba696bff556e\n",
      "🧪 View experiment at: http://localhost:5000/#/experiments/3\n",
      "🏃 View run Trial: 124 at: http://localhost:5000/#/experiments/3/runs/fd2f51818ff245b799ceb3857cfa828f\n",
      "🧪 View experiment at: http://localhost:5000/#/experiments/3\n",
      "🏃 View run Trial: 125 at: http://localhost:5000/#/experiments/3/runs/6283f1f4875f412ca53184ad599fffbc\n",
      "🧪 View experiment at: http://localhost:5000/#/experiments/3\n",
      "🏃 View run Trial: 126 at: http://localhost:5000/#/experiments/3/runs/db1e151e5829486995bd43f7bc4080d2\n",
      "🧪 View experiment at: http://localhost:5000/#/experiments/3\n",
      "🏃 View run Trial: 127 at: http://localhost:5000/#/experiments/3/runs/f3b66a5c00274f01819c63c15243d9b1\n",
      "🧪 View experiment at: http://localhost:5000/#/experiments/3\n",
      "🏃 View run Trial: 128 at: http://localhost:5000/#/experiments/3/runs/03f85ec1af114517989bd6979c826255\n",
      "🧪 View experiment at: http://localhost:5000/#/experiments/3\n",
      "🏃 View run Trial: 129 at: http://localhost:5000/#/experiments/3/runs/bf929fb86f214ec390ce631b9273f30a\n",
      "🧪 View experiment at: http://localhost:5000/#/experiments/3\n",
      "🏃 View run Trial: 130 at: http://localhost:5000/#/experiments/3/runs/da652f02ff364bb1a576fa223292511d\n",
      "🧪 View experiment at: http://localhost:5000/#/experiments/3\n",
      "🏃 View run Trial: 131 at: http://localhost:5000/#/experiments/3/runs/c90d632dc8d64b3ea88f7a4085ba8470\n",
      "🧪 View experiment at: http://localhost:5000/#/experiments/3\n",
      "🏃 View run Trial: 132 at: http://localhost:5000/#/experiments/3/runs/e8e7a4c79dd743b29511a996f1e581d0\n",
      "🧪 View experiment at: http://localhost:5000/#/experiments/3\n",
      "🏃 View run Trial: 133 at: http://localhost:5000/#/experiments/3/runs/894bc765dc804587af69dc4d76da42d8\n",
      "🧪 View experiment at: http://localhost:5000/#/experiments/3\n",
      "🏃 View run Trial: 134 at: http://localhost:5000/#/experiments/3/runs/f8c2d644ce7842c3a23ae3ffd3eef2f9\n",
      "🧪 View experiment at: http://localhost:5000/#/experiments/3\n",
      "🏃 View run Trial: 135 at: http://localhost:5000/#/experiments/3/runs/471f33e839464cd886a848d1d596eace\n",
      "🧪 View experiment at: http://localhost:5000/#/experiments/3\n",
      "🏃 View run Trial: 136 at: http://localhost:5000/#/experiments/3/runs/0e15e01cc7644276975a4f4be6fd280c\n",
      "🧪 View experiment at: http://localhost:5000/#/experiments/3\n",
      "🏃 View run Trial: 137 at: http://localhost:5000/#/experiments/3/runs/5dd916bb2f0b4488bb1eee4e6b5b2933\n",
      "🧪 View experiment at: http://localhost:5000/#/experiments/3\n",
      "🏃 View run Trial: 138 at: http://localhost:5000/#/experiments/3/runs/8e73655c92fd4f35bf20c171ad2fb31c\n",
      "🧪 View experiment at: http://localhost:5000/#/experiments/3\n",
      "🏃 View run Trial: 139 at: http://localhost:5000/#/experiments/3/runs/f5ac40afb17e48b9b55b634c3813a62a\n",
      "🧪 View experiment at: http://localhost:5000/#/experiments/3\n",
      "🏃 View run Trial: 140 at: http://localhost:5000/#/experiments/3/runs/92ebc636b59d40bc9bab08458a512886\n",
      "🧪 View experiment at: http://localhost:5000/#/experiments/3\n",
      "🏃 View run Trial: 141 at: http://localhost:5000/#/experiments/3/runs/f06f0c4672a2440ea56b6abb6586c206\n",
      "🧪 View experiment at: http://localhost:5000/#/experiments/3\n",
      "🏃 View run Trial: 142 at: http://localhost:5000/#/experiments/3/runs/0c4f0dc5846d48b387686e349dc147e8\n",
      "🧪 View experiment at: http://localhost:5000/#/experiments/3\n",
      "🏃 View run Trial: 143 at: http://localhost:5000/#/experiments/3/runs/3c5f97be09ac4fc8a32044d4e3ef4160\n",
      "🧪 View experiment at: http://localhost:5000/#/experiments/3\n",
      "🏃 View run Trial: 144 at: http://localhost:5000/#/experiments/3/runs/896d73473d4a47b4a085ecd595a9b383\n",
      "🧪 View experiment at: http://localhost:5000/#/experiments/3\n",
      "🏃 View run Trial: 145 at: http://localhost:5000/#/experiments/3/runs/5f8eec44f9664c88bc13260f0513cfe9\n",
      "🧪 View experiment at: http://localhost:5000/#/experiments/3\n",
      "🏃 View run Trial: 146 at: http://localhost:5000/#/experiments/3/runs/dbf06db83f57492d8ac39b7732d5d9f1\n",
      "🧪 View experiment at: http://localhost:5000/#/experiments/3\n",
      "🏃 View run Trial: 147 at: http://localhost:5000/#/experiments/3/runs/9debb95c79d34e13884f31a10a5bddf2\n",
      "🧪 View experiment at: http://localhost:5000/#/experiments/3\n",
      "🏃 View run Trial: 148 at: http://localhost:5000/#/experiments/3/runs/9c9bea80b3f1450ca6f1eeee32280a10\n",
      "🧪 View experiment at: http://localhost:5000/#/experiments/3\n",
      "🏃 View run Trial: 149 at: http://localhost:5000/#/experiments/3/runs/beb0893c3625475cbb5b2b46e2f96c56\n",
      "🧪 View experiment at: http://localhost:5000/#/experiments/3\n",
      "🏃 View run Trial: 150 at: http://localhost:5000/#/experiments/3/runs/80020f08baf74d1b8fc9f5581a81b557\n",
      "🧪 View experiment at: http://localhost:5000/#/experiments/3\n",
      "🏃 View run Trial: 151 at: http://localhost:5000/#/experiments/3/runs/723a320a08a74a23a14d1f33a04cd957\n",
      "🧪 View experiment at: http://localhost:5000/#/experiments/3\n",
      "🏃 View run Trial: 152 at: http://localhost:5000/#/experiments/3/runs/19d4847a14894eb4bdec4f394f42e9ab\n",
      "🧪 View experiment at: http://localhost:5000/#/experiments/3\n",
      "🏃 View run Trial: 153 at: http://localhost:5000/#/experiments/3/runs/d028f2272e074f738e6336d5c99f63d4\n",
      "🧪 View experiment at: http://localhost:5000/#/experiments/3\n",
      "🏃 View run Trial: 154 at: http://localhost:5000/#/experiments/3/runs/cfc9dda7cd7f4915ba2ac8f3f34651b0\n",
      "🧪 View experiment at: http://localhost:5000/#/experiments/3\n",
      "🏃 View run Trial: 155 at: http://localhost:5000/#/experiments/3/runs/f88935a9ddc4479a816c6d9ad968954d\n",
      "🧪 View experiment at: http://localhost:5000/#/experiments/3\n",
      "🏃 View run Trial: 156 at: http://localhost:5000/#/experiments/3/runs/66600d5a37d44a9b8ad2ec0be917b3f5\n",
      "🧪 View experiment at: http://localhost:5000/#/experiments/3\n",
      "🏃 View run Trial: 157 at: http://localhost:5000/#/experiments/3/runs/a3edddeca0b444c2878d21ddd5dc02ac\n",
      "🧪 View experiment at: http://localhost:5000/#/experiments/3\n",
      "🏃 View run Trial: 158 at: http://localhost:5000/#/experiments/3/runs/3ff121aee35f43ed9b49f99546136111\n",
      "🧪 View experiment at: http://localhost:5000/#/experiments/3\n",
      "🏃 View run Trial: 159 at: http://localhost:5000/#/experiments/3/runs/cdcd55f8284e42e0ba3f8f9150bf102a\n",
      "🧪 View experiment at: http://localhost:5000/#/experiments/3\n",
      "🏃 View run Trial: 160 at: http://localhost:5000/#/experiments/3/runs/cd5e91e2fe544d3090b2342af445d8f5\n",
      "🧪 View experiment at: http://localhost:5000/#/experiments/3\n",
      "🏃 View run Trial: 161 at: http://localhost:5000/#/experiments/3/runs/4b2ff2139d7342b7b3a1735be613322f\n",
      "🧪 View experiment at: http://localhost:5000/#/experiments/3\n",
      "🏃 View run Trial: 162 at: http://localhost:5000/#/experiments/3/runs/7535bff1d5f34920afd63b03a9f456df\n",
      "🧪 View experiment at: http://localhost:5000/#/experiments/3\n",
      "🏃 View run Trial: 163 at: http://localhost:5000/#/experiments/3/runs/daaa254ef0d940d382e7fb6b635a74b6\n",
      "🧪 View experiment at: http://localhost:5000/#/experiments/3\n",
      "🏃 View run Trial: 164 at: http://localhost:5000/#/experiments/3/runs/5acdfb3ed11f4a809e4134eb16bb33d7\n",
      "🧪 View experiment at: http://localhost:5000/#/experiments/3\n",
      "🏃 View run Trial: 165 at: http://localhost:5000/#/experiments/3/runs/43beee657b6a49f8a2df14ab8037e4f4\n",
      "🧪 View experiment at: http://localhost:5000/#/experiments/3\n",
      "🏃 View run Trial: 166 at: http://localhost:5000/#/experiments/3/runs/8f9a8de5c1974ee8b48dee36f118da8e\n",
      "🧪 View experiment at: http://localhost:5000/#/experiments/3\n",
      "🏃 View run Trial: 167 at: http://localhost:5000/#/experiments/3/runs/5e48a8329dd546a48ef75e38ff6c0804\n",
      "🧪 View experiment at: http://localhost:5000/#/experiments/3\n",
      "🏃 View run Trial: 168 at: http://localhost:5000/#/experiments/3/runs/5e51864126ab4c9a865b2eca1a63e850\n",
      "🧪 View experiment at: http://localhost:5000/#/experiments/3\n",
      "🏃 View run Trial: 169 at: http://localhost:5000/#/experiments/3/runs/e220b83ee5384033a1eb5bfa42e1410e\n",
      "🧪 View experiment at: http://localhost:5000/#/experiments/3\n",
      "🏃 View run Trial: 170 at: http://localhost:5000/#/experiments/3/runs/333e33da3bce40008895cad78cf09637\n",
      "🧪 View experiment at: http://localhost:5000/#/experiments/3\n",
      "🏃 View run Trial: 171 at: http://localhost:5000/#/experiments/3/runs/a1fa09a6f13042689153909d6b688c4e\n",
      "🧪 View experiment at: http://localhost:5000/#/experiments/3\n",
      "🏃 View run Trial: 172 at: http://localhost:5000/#/experiments/3/runs/5aea0dcf8ff540f696ab2d2ce24904d4\n",
      "🧪 View experiment at: http://localhost:5000/#/experiments/3\n",
      "🏃 View run Trial: 173 at: http://localhost:5000/#/experiments/3/runs/ee70e4d2836643cfae3f067689134fd9\n",
      "🧪 View experiment at: http://localhost:5000/#/experiments/3\n",
      "🏃 View run Trial: 174 at: http://localhost:5000/#/experiments/3/runs/fc3c068729b044bbbfae5fe84a5e8850\n",
      "🧪 View experiment at: http://localhost:5000/#/experiments/3\n",
      "🏃 View run Trial: 175 at: http://localhost:5000/#/experiments/3/runs/de8090efe8904679a77a881d2f24687c\n",
      "🧪 View experiment at: http://localhost:5000/#/experiments/3\n",
      "🏃 View run Trial: 176 at: http://localhost:5000/#/experiments/3/runs/9a2a8ed65cfe49739a03e8526393b918\n",
      "🧪 View experiment at: http://localhost:5000/#/experiments/3\n",
      "🏃 View run Trial: 177 at: http://localhost:5000/#/experiments/3/runs/076a10b1cedc43b88cb1551b4ed39658\n",
      "🧪 View experiment at: http://localhost:5000/#/experiments/3\n",
      "🏃 View run Trial: 178 at: http://localhost:5000/#/experiments/3/runs/6294c2656b824b8c80d1af173a6a496f\n",
      "🧪 View experiment at: http://localhost:5000/#/experiments/3\n",
      "🏃 View run Trial: 179 at: http://localhost:5000/#/experiments/3/runs/3c80f3bcdf61451aa8e97d0f610da4a7\n",
      "🧪 View experiment at: http://localhost:5000/#/experiments/3\n",
      "🏃 View run Trial: 180 at: http://localhost:5000/#/experiments/3/runs/6fea7ee0d86249b486ad2f1b40d7998b\n",
      "🧪 View experiment at: http://localhost:5000/#/experiments/3\n",
      "🏃 View run Trial: 181 at: http://localhost:5000/#/experiments/3/runs/a31841c1ef1b44ad93f457caa454108b\n",
      "🧪 View experiment at: http://localhost:5000/#/experiments/3\n",
      "🏃 View run Trial: 182 at: http://localhost:5000/#/experiments/3/runs/243794633cf44064ad09448264f5d642\n",
      "🧪 View experiment at: http://localhost:5000/#/experiments/3\n",
      "🏃 View run Trial: 183 at: http://localhost:5000/#/experiments/3/runs/be858ee716e44213832b7dcd55ec25b3\n",
      "🧪 View experiment at: http://localhost:5000/#/experiments/3\n",
      "🏃 View run Trial: 184 at: http://localhost:5000/#/experiments/3/runs/b1706dbdf558409ab486f872283ecb6d\n",
      "🧪 View experiment at: http://localhost:5000/#/experiments/3\n",
      "🏃 View run Trial: 185 at: http://localhost:5000/#/experiments/3/runs/645d556dd9fa4d58a1e3e662191908b9\n",
      "🧪 View experiment at: http://localhost:5000/#/experiments/3\n",
      "🏃 View run Trial: 186 at: http://localhost:5000/#/experiments/3/runs/fa874e6bcd28423e90663f5bccb36ebd\n",
      "🧪 View experiment at: http://localhost:5000/#/experiments/3\n",
      "🏃 View run Trial: 187 at: http://localhost:5000/#/experiments/3/runs/eefdeeec44924269b4afec7cb3b17559\n",
      "🧪 View experiment at: http://localhost:5000/#/experiments/3\n",
      "🏃 View run Trial: 188 at: http://localhost:5000/#/experiments/3/runs/30a40175c0b946e488e82856cc831c5d\n",
      "🧪 View experiment at: http://localhost:5000/#/experiments/3\n",
      "🏃 View run Trial: 189 at: http://localhost:5000/#/experiments/3/runs/b75761533565448481482169d41f2c9a\n",
      "🧪 View experiment at: http://localhost:5000/#/experiments/3\n",
      "🏃 View run Trial: 190 at: http://localhost:5000/#/experiments/3/runs/da3becebe03b4d1bafa6a39271c08689\n",
      "🧪 View experiment at: http://localhost:5000/#/experiments/3\n",
      "🏃 View run Trial: 191 at: http://localhost:5000/#/experiments/3/runs/aaf29bb3f92047b29760c01a264bff00\n",
      "🧪 View experiment at: http://localhost:5000/#/experiments/3\n",
      "🏃 View run Trial: 192 at: http://localhost:5000/#/experiments/3/runs/8b24fb1f0c5a48d3a34ab49f4bab09ee\n",
      "🧪 View experiment at: http://localhost:5000/#/experiments/3\n",
      "🏃 View run Trial: 193 at: http://localhost:5000/#/experiments/3/runs/070e9970e12e4f2a8805260548a38cf9\n",
      "🧪 View experiment at: http://localhost:5000/#/experiments/3\n",
      "🏃 View run Trial: 194 at: http://localhost:5000/#/experiments/3/runs/cab2aefd6cad492d8c20e5cbf215568f\n",
      "🧪 View experiment at: http://localhost:5000/#/experiments/3\n",
      "🏃 View run Trial: 195 at: http://localhost:5000/#/experiments/3/runs/6e5da32d52e64157b3326494730ef470\n",
      "🧪 View experiment at: http://localhost:5000/#/experiments/3\n",
      "🏃 View run Trial: 196 at: http://localhost:5000/#/experiments/3/runs/c0137f6c482b4fc6a73250b25f90a15e\n",
      "🧪 View experiment at: http://localhost:5000/#/experiments/3\n",
      "🏃 View run Trial: 197 at: http://localhost:5000/#/experiments/3/runs/3a1ccb1244734f84a4b3d25b5a7eed08\n",
      "🧪 View experiment at: http://localhost:5000/#/experiments/3\n",
      "🏃 View run Trial: 198 at: http://localhost:5000/#/experiments/3/runs/a7dc9df7b8ea42e790002d46fde8d2ed\n",
      "🧪 View experiment at: http://localhost:5000/#/experiments/3\n",
      "🏃 View run Trial: 199 at: http://localhost:5000/#/experiments/3/runs/9ca90066bc2f42b2b2a0afd9e6e779ea\n",
      "🧪 View experiment at: http://localhost:5000/#/experiments/3\n",
      "🏃 View run Trial: 200 at: http://localhost:5000/#/experiments/3/runs/7fad29b544bd4c40b2d18c2d4db55c60\n",
      "🧪 View experiment at: http://localhost:5000/#/experiments/3\n",
      "🏃 View run Trial: 201 at: http://localhost:5000/#/experiments/3/runs/e815a59e0e6247ce96418fa636b9bfc9\n",
      "🧪 View experiment at: http://localhost:5000/#/experiments/3\n",
      "🏃 View run Trial: 202 at: http://localhost:5000/#/experiments/3/runs/9a79a8bdae2c400a9242b774466f31e8\n",
      "🧪 View experiment at: http://localhost:5000/#/experiments/3\n",
      "🏃 View run Trial: 203 at: http://localhost:5000/#/experiments/3/runs/51b41e66ec7c42e2ae70374c4fd919e1\n",
      "🧪 View experiment at: http://localhost:5000/#/experiments/3\n",
      "🏃 View run Trial: 204 at: http://localhost:5000/#/experiments/3/runs/e35657c075e64ed5b49474887df474b0\n",
      "🧪 View experiment at: http://localhost:5000/#/experiments/3\n",
      "🏃 View run Trial: 205 at: http://localhost:5000/#/experiments/3/runs/e0a05b6a61d1410a804c5eec4906dfb8\n",
      "🧪 View experiment at: http://localhost:5000/#/experiments/3\n",
      "🏃 View run Trial: 206 at: http://localhost:5000/#/experiments/3/runs/b3ac283698ad45889621caed3bd625b1\n",
      "🧪 View experiment at: http://localhost:5000/#/experiments/3\n",
      "🏃 View run Trial: 207 at: http://localhost:5000/#/experiments/3/runs/88566c1a91d3480a8a75fe856d9d89f8\n",
      "🧪 View experiment at: http://localhost:5000/#/experiments/3\n",
      "🏃 View run Trial: 208 at: http://localhost:5000/#/experiments/3/runs/a815394e6ae1467c8dd494a53bfe85fa\n",
      "🧪 View experiment at: http://localhost:5000/#/experiments/3\n",
      "🏃 View run Trial: 209 at: http://localhost:5000/#/experiments/3/runs/e4723022b183495482311b7764092e91\n",
      "🧪 View experiment at: http://localhost:5000/#/experiments/3\n",
      "🏃 View run Trial: 210 at: http://localhost:5000/#/experiments/3/runs/ee8e0ea3ca764fcca25947a84adf738e\n",
      "🧪 View experiment at: http://localhost:5000/#/experiments/3\n",
      "🏃 View run Trial: 211 at: http://localhost:5000/#/experiments/3/runs/e029f2c2b6b04eb5b431444e5d255e30\n",
      "🧪 View experiment at: http://localhost:5000/#/experiments/3\n",
      "🏃 View run Trial: 212 at: http://localhost:5000/#/experiments/3/runs/e24492115acb4d0aafe6f7b0a89a029d\n",
      "🧪 View experiment at: http://localhost:5000/#/experiments/3\n",
      "🏃 View run Trial: 213 at: http://localhost:5000/#/experiments/3/runs/613097f80bde43f9af945331332b4b1f\n",
      "🧪 View experiment at: http://localhost:5000/#/experiments/3\n",
      "🏃 View run Trial: 214 at: http://localhost:5000/#/experiments/3/runs/1aa236fdccaf4574aabd1f81d63b5cf2\n",
      "🧪 View experiment at: http://localhost:5000/#/experiments/3\n",
      "🏃 View run Trial: 215 at: http://localhost:5000/#/experiments/3/runs/245aea81dc124ad0b1eb7c5a21e0d829\n",
      "🧪 View experiment at: http://localhost:5000/#/experiments/3\n",
      "🏃 View run Trial: 216 at: http://localhost:5000/#/experiments/3/runs/0a70b2418df04ee39b1072f21dc0051c\n",
      "🧪 View experiment at: http://localhost:5000/#/experiments/3\n",
      "🏃 View run Trial: 217 at: http://localhost:5000/#/experiments/3/runs/be5461c6dfbe447c917fa0110b1c88a1\n",
      "🧪 View experiment at: http://localhost:5000/#/experiments/3\n",
      "🏃 View run Trial: 218 at: http://localhost:5000/#/experiments/3/runs/0b3afbf84c9147d18102ddd6ff9642d4\n",
      "🧪 View experiment at: http://localhost:5000/#/experiments/3\n",
      "🏃 View run Trial: 219 at: http://localhost:5000/#/experiments/3/runs/cefe8d0d31df438d936c5dbbf7e290cf\n",
      "🧪 View experiment at: http://localhost:5000/#/experiments/3\n",
      "🏃 View run Trial: 220 at: http://localhost:5000/#/experiments/3/runs/6da50e3f46e6412fb7ebd38cccd9faeb\n",
      "🧪 View experiment at: http://localhost:5000/#/experiments/3\n",
      "🏃 View run Trial: 221 at: http://localhost:5000/#/experiments/3/runs/eafe84ba78e64858a0e2481afa01af31\n",
      "🧪 View experiment at: http://localhost:5000/#/experiments/3\n",
      "🏃 View run Trial: 222 at: http://localhost:5000/#/experiments/3/runs/fae6c780ec934b0b8e41612245332341\n",
      "🧪 View experiment at: http://localhost:5000/#/experiments/3\n",
      "🏃 View run Trial: 223 at: http://localhost:5000/#/experiments/3/runs/1cf196e314094ab09ab68f9723ce67cd\n",
      "🧪 View experiment at: http://localhost:5000/#/experiments/3\n",
      "🏃 View run Trial: 224 at: http://localhost:5000/#/experiments/3/runs/835342a055ab43709438f999eff7184d\n",
      "🧪 View experiment at: http://localhost:5000/#/experiments/3\n",
      "🏃 View run Trial: 225 at: http://localhost:5000/#/experiments/3/runs/91a4ff387a8240b3a419599751bf39c6\n",
      "🧪 View experiment at: http://localhost:5000/#/experiments/3\n",
      "🏃 View run Trial: 226 at: http://localhost:5000/#/experiments/3/runs/34a206f59c2643cd97ed4ec07d1a94c6\n",
      "🧪 View experiment at: http://localhost:5000/#/experiments/3\n",
      "🏃 View run Trial: 227 at: http://localhost:5000/#/experiments/3/runs/f61eabe351e242409268a9a13c98c8ee\n",
      "🧪 View experiment at: http://localhost:5000/#/experiments/3\n",
      "🏃 View run Trial: 228 at: http://localhost:5000/#/experiments/3/runs/5af93f4e95154b6b8bd3295d84561762\n",
      "🧪 View experiment at: http://localhost:5000/#/experiments/3\n",
      "🏃 View run Trial: 229 at: http://localhost:5000/#/experiments/3/runs/8a83314686c3495cb052874faa6a2f3d\n",
      "🧪 View experiment at: http://localhost:5000/#/experiments/3\n",
      "🏃 View run Trial: 230 at: http://localhost:5000/#/experiments/3/runs/13dab6c806384d5594a626b664b2d545\n",
      "🧪 View experiment at: http://localhost:5000/#/experiments/3\n",
      "🏃 View run Trial: 231 at: http://localhost:5000/#/experiments/3/runs/8b842a7bc5d748c3a45ffcf40dc915ef\n",
      "🧪 View experiment at: http://localhost:5000/#/experiments/3\n",
      "🏃 View run Trial: 232 at: http://localhost:5000/#/experiments/3/runs/45ef8173cb694f60bdf7da0e99c4b768\n",
      "🧪 View experiment at: http://localhost:5000/#/experiments/3\n",
      "🏃 View run Trial: 233 at: http://localhost:5000/#/experiments/3/runs/3aec7d6d5b804294baeb03242d153acb\n",
      "🧪 View experiment at: http://localhost:5000/#/experiments/3\n",
      "🏃 View run Trial: 234 at: http://localhost:5000/#/experiments/3/runs/7d6d92239ff441d9b0ccdb3dce15f88e\n",
      "🧪 View experiment at: http://localhost:5000/#/experiments/3\n",
      "🏃 View run Trial: 235 at: http://localhost:5000/#/experiments/3/runs/d6e9e468b3ea49a9990769e0df6385b0\n",
      "🧪 View experiment at: http://localhost:5000/#/experiments/3\n",
      "🏃 View run Trial: 236 at: http://localhost:5000/#/experiments/3/runs/73033ceca7b94b7085c927d1299ce9be\n",
      "🧪 View experiment at: http://localhost:5000/#/experiments/3\n",
      "🏃 View run Trial: 237 at: http://localhost:5000/#/experiments/3/runs/05ca6d764cd942b98143661125070ccc\n",
      "🧪 View experiment at: http://localhost:5000/#/experiments/3\n",
      "🏃 View run Trial: 238 at: http://localhost:5000/#/experiments/3/runs/27a857f4882544e9926e6fe065976aa3\n",
      "🧪 View experiment at: http://localhost:5000/#/experiments/3\n",
      "🏃 View run Trial: 239 at: http://localhost:5000/#/experiments/3/runs/39fc2606752348dda3e1d042e2d20654\n",
      "🧪 View experiment at: http://localhost:5000/#/experiments/3\n",
      "🏃 View run Trial: 240 at: http://localhost:5000/#/experiments/3/runs/255a34b6dd344ab59e57e3d628a9a597\n",
      "🧪 View experiment at: http://localhost:5000/#/experiments/3\n",
      "🏃 View run Trial: 241 at: http://localhost:5000/#/experiments/3/runs/e255ba01dcaf492a8c5fae7b36cb895d\n",
      "🧪 View experiment at: http://localhost:5000/#/experiments/3\n",
      "🏃 View run Trial: 242 at: http://localhost:5000/#/experiments/3/runs/02d909b95e014f79a78f5d7f33a5803a\n",
      "🧪 View experiment at: http://localhost:5000/#/experiments/3\n",
      "🏃 View run Trial: 243 at: http://localhost:5000/#/experiments/3/runs/141d52ed2bcd426c96732e6ac09ec565\n",
      "🧪 View experiment at: http://localhost:5000/#/experiments/3\n",
      "🏃 View run Trial: 244 at: http://localhost:5000/#/experiments/3/runs/ffd9ac69a10f4f4f976fa10e0a0b862d\n",
      "🧪 View experiment at: http://localhost:5000/#/experiments/3\n",
      "🏃 View run Trial: 245 at: http://localhost:5000/#/experiments/3/runs/c56b41b06594457b8db502b8f2811273\n",
      "🧪 View experiment at: http://localhost:5000/#/experiments/3\n",
      "🏃 View run Trial: 246 at: http://localhost:5000/#/experiments/3/runs/8564ce086acd46fb8cf672b2e3829008\n",
      "🧪 View experiment at: http://localhost:5000/#/experiments/3\n",
      "🏃 View run Trial: 247 at: http://localhost:5000/#/experiments/3/runs/2b93c4fb6066448589ae960765d33880\n",
      "🧪 View experiment at: http://localhost:5000/#/experiments/3\n",
      "🏃 View run Trial: 248 at: http://localhost:5000/#/experiments/3/runs/19abb618f83c478f9ac4207bb60e877f\n",
      "🧪 View experiment at: http://localhost:5000/#/experiments/3\n",
      "🏃 View run Trial: 249 at: http://localhost:5000/#/experiments/3/runs/3217b73698e548849fe22129c2ab1570\n",
      "🧪 View experiment at: http://localhost:5000/#/experiments/3\n"
     ]
    },
    {
     "name": "stderr",
     "output_type": "stream",
     "text": [
      "Successfully registered model 'weather_model_dev'.\n",
      "2024/12/14 14:25:01 INFO mlflow.store.model_registry.abstract_store: Waiting up to 300 seconds for model version to finish creation. Model name: weather_model_dev, version 1\n"
     ]
    },
    {
     "name": "stdout",
     "output_type": "stream",
     "text": [
      "🏃 View run best_hyperparam_2024/12/14-14:15:46\" at: http://localhost:5000/#/experiments/3/runs/216a7269ad4f42f7b696425b3c5925d8\n",
      "🧪 View experiment at: http://localhost:5000/#/experiments/3\n"
     ]
    },
    {
     "name": "stderr",
     "output_type": "stream",
     "text": [
      "Created version '1' of model 'weather_model_dev'.\n"
     ]
    }
   ],
   "execution_count": 9
  },
  {
   "cell_type": "markdown",
   "metadata": {},
   "source": [
    "## Testeando el modelo\n",
    "\n",
    "Una vez que el modelo fue entrenado, podemos levantarlo y testearlo de una forma agnóstica a donde está guardado."
   ]
  },
  {
   "cell_type": "code",
   "metadata": {
    "ExecuteTime": {
     "end_time": "2024-12-14T22:54:05.772818Z",
     "start_time": "2024-12-14T22:54:05.645508Z"
    }
   },
   "source": [
    "loaded = mlflow.sklearn.load_model(model_uri)"
   ],
   "outputs": [
    {
     "data": {
      "text/plain": [
       "Downloading artifacts:   0%|          | 0/5 [00:00<?, ?it/s]"
      ],
      "application/vnd.jupyter.widget-view+json": {
       "version_major": 2,
       "version_minor": 0,
       "model_id": "93ba7343ff8c452eb514c1861e2d5493"
      }
     },
     "metadata": {},
     "output_type": "display_data"
    }
   ],
   "execution_count": 10
  },
  {
   "cell_type": "code",
   "metadata": {
    "ExecuteTime": {
     "end_time": "2024-12-14T22:54:13.945352Z",
     "start_time": "2024-12-14T22:54:13.940896Z"
    }
   },
   "source": [
    "import numpy as np\n",
    "test_data = [-0.6317950987718209,-0.835564471034283,1.95681501712259,-0.08635941723607769,-0.35739450328061007,0.2878277845638937,0.19322349136863234,0.14486324441917392,2.26960157765292,1.8605084824370284,-0.7794107133590573,-0.22482583411304372,1.2438853099130764,-0.46088065491682223,-0.03533558451781837,-1.30641020488197,0.8916196647158278,-0.9048754990696909,-1.092553430918116,-0.9526967607581734]\n",
    "loaded.predict(np.array(test_data).reshape([1, -1]))"
   ],
   "outputs": [
    {
     "name": "stderr",
     "output_type": "stream",
     "text": [
      "/home/juan/anaconda3/envs/CEIA/lib/python3.12/site-packages/sklearn/base.py:493: UserWarning: X does not have valid feature names, but SVC was fitted with feature names\n",
      "  warnings.warn(\n"
     ]
    },
    {
     "data": {
      "text/plain": [
       "array([0])"
      ]
     },
     "execution_count": 11,
     "metadata": {},
     "output_type": "execute_result"
    }
   ],
   "execution_count": 11
  },
  {
   "cell_type": "markdown",
   "metadata": {},
   "source": [
    "## Registramos el modelo \n",
    "\n",
    "Realizamos el registro del modelo en MLflow. En este registro se pone el modelo productivo que luego se usará para servir en formato on-line."
   ]
  },
  {
   "cell_type": "code",
   "metadata": {
    "ExecuteTime": {
     "end_time": "2024-12-14T22:54:42.316356Z",
     "start_time": "2024-12-14T22:54:42.289878Z"
    }
   },
   "source": [
    "from mlflow import MlflowClient\n",
    "\n",
    "client = MlflowClient()\n",
    "name = \"weather_model_prod\"\n",
    "desc = \"This classifier detects if the day after input data will rain in that location\"\n",
    "\n",
    "# Creamos el modelo productivo\n",
    "client.create_registered_model(name=name, description=desc)\n",
    "\n",
    "# Guardamos como tag los hiper-parametros en la version del modelo\n",
    "tags = model.get_params()\n",
    "tags[\"model\"] = type(model).__name__\n",
    "tags[\"f1-score\"] = f1_score\n",
    "\n",
    "# Guardamos la version del modelo\n",
    "result = client.create_model_version(\n",
    "    name=name,\n",
    "    source=model_uri,\n",
    "    run_id=model_uri.split(\"/\")[-3],\n",
    "    tags=tags\n",
    ")\n",
    "\n",
    "# Y creamos como la version con el alias de champion para poder levantarlo en nuestro\n",
    "# proceso de servicio del modelo on-line.\n",
    "client.set_registered_model_alias(name, \"champion\", result.version)"
   ],
   "outputs": [
    {
     "name": "stderr",
     "output_type": "stream",
     "text": [
      "2024/12/14 19:54:42 INFO mlflow.store.model_registry.abstract_store: Waiting up to 300 seconds for model version to finish creation. Model name: weather_model_prod, version 1\n"
     ]
    }
   ],
   "execution_count": 12
  },
  {
   "cell_type": "code",
   "metadata": {
    "collapsed": false,
    "jupyter": {
     "outputs_hidden": false
    },
    "ExecuteTime": {
     "end_time": "2024-12-14T17:14:28.019859560Z",
     "start_time": "2024-12-13T21:14:01.978555Z"
    }
   },
   "source": [],
   "outputs": [],
   "execution_count": null
  }
 ],
 "metadata": {
  "kernelspec": {
   "display_name": "Python 3 (ipykernel)",
   "language": "python",
   "name": "python3"
  },
  "language_info": {
   "codemirror_mode": {
    "name": "ipython",
    "version": 3
   },
   "file_extension": ".py",
   "mimetype": "text/x-python",
   "name": "python",
   "nbconvert_exporter": "python",
   "pygments_lexer": "ipython3",
   "version": "3.8.19"
  }
 },
 "nbformat": 4,
 "nbformat_minor": 4
}
