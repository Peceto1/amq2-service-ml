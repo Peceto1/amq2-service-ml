{
 "cells": [
  {
   "cell_type": "code",
   "metadata": {
    "ExecuteTime": {
     "end_time": "2024-12-13T21:13:29.612649Z",
     "start_time": "2024-12-13T21:13:28.151746Z"
    }
   },
   "source": [
    "import awswrangler as wr\n",
    "\n",
    "import mlflow\n",
    "\n",
    "# Para que funciones, todos nuestros scripts debemos exportar las siguientes variables de entorno\n",
    "%env AWS_ACCESS_KEY_ID=minio   \n",
    "%env AWS_SECRET_ACCESS_KEY=minio123 \n",
    "%env MLFLOW_S3_ENDPOINT_URL=http://localhost:9000\n",
    "%env AWS_ENDPOINT_URL_S3=http://localhost:9000\n",
    "#%env MLFLOW_S3_ENDPOINT_URL=http://192.168.0.21:9000\n",
    "#%env AWS_ENDPOINT_URL_S3=http://192.168.0.21:9000"
   ],
   "outputs": [
    {
     "name": "stdout",
     "output_type": "stream",
     "text": [
      "env: AWS_ACCESS_KEY_ID=minio\n",
      "env: AWS_SECRET_ACCESS_KEY=minio123\n",
      "env: MLFLOW_S3_ENDPOINT_URL=http://localhost:9000\n",
      "env: AWS_ENDPOINT_URL_S3=http://localhost:9000\n"
     ]
    }
   ],
   "execution_count": 2
  },
  {
   "cell_type": "markdown",
   "metadata": {},
   "source": [
    "# Búsqueda de mejor modelo e hiperparámetros\n",
    "\n",
    "Dado nuestro dataset de Heart Disease, el cual ya pasó por el proceso de ETL y se encuentra en nuestro S3 bucket, vamos a realizar una búsqueda de cual seria el mejor modelo y que hiperparametros usar.\n",
    "\n",
    "La búsqueda de hiperparametros la haremos usando Optuna y el tracking será realizado mediante MLFlow.\n",
    "\n",
    "OBS: Para la confección de esta notebook, nos basamos en el tutorial de [MLFlow](https://mlflow.org/docs/latest/traditional-ml/hyperparameter-tuning-with-child-runs/notebooks/index.html)."
   ]
  },
  {
   "cell_type": "code",
   "metadata": {
    "ExecuteTime": {
     "end_time": "2024-12-13T21:13:29.677251Z",
     "start_time": "2024-12-13T21:13:29.675633Z"
    }
   },
   "source": [
    "mlflow_server = \"http://localhost:5000\"\n",
    "#mlflow_server = \"http://192.168.0.21:5000\"\n",
    "\n",
    "mlflow.set_tracking_uri(mlflow_server)"
   ],
   "outputs": [],
   "execution_count": 3
  },
  {
   "cell_type": "code",
   "metadata": {
    "ExecuteTime": {
     "end_time": "2024-12-13T21:13:42.596608Z",
     "start_time": "2024-12-13T21:13:29.719836Z"
    }
   },
   "source": [
    "# Cargamos los datos para realizar nuestro estudio.\n",
    "# OBS, no vamos a cargar los datos de testing, nada de Data leakage por aquí\n",
    "X_train =  wr.s3.read_csv(\"s3://data/final/train/heart_X_train.csv\")\n",
    "y_train =  wr.s3.read_csv(\"s3://data/final/train/heart_y_train.csv\")\n",
    "\n",
    "X_test =  wr.s3.read_csv(\"s3://data/final/test/heart_X_test.csv\")\n",
    "y_test =  wr.s3.read_csv(\"s3://data/final/test/heart_y_test.csv\")"
   ],
   "outputs": [
    {
     "name": "stderr",
     "output_type": "stream",
     "text": [
      "2024-12-13 18:13:30,452\tINFO worker.py:1821 -- Started a local Ray instance.\n"
     ]
    }
   ],
   "execution_count": 4
  },
  {
   "cell_type": "markdown",
   "metadata": {},
   "source": [
    "## Investigamos la correlación de features con la variable objetivo\n",
    "\n",
    "Antes de profundizar en el proceso de construcción de modelo, es esencial comprender las relaciones entre nuestras features  y la variable objetivo. Por lo que vamos a realizar un gráfico que indica el coeficiente de correlación de cada feature en relación con la variable objetivo. Esto nos sirve para:\n",
    "\n",
    "- Evitar data leakage: Debemos asegurarnos de que ninguna característica se correlacione perfectamente con el objetivo (un coeficiente de correlación de aproximadamente 1.0). Si existe tal correlación, es una señal de que nuestro conjunto de datos podría estar \"filtrando\" información sobre el objetivo. \n",
    "\n",
    "- Garantizar relaciones significativas: Idealmente, nuestras características deberían tener algún grado de correlación con el objetivo. Inclusive si estamos trabajando con un problema de clasificación, aunque los resultados no son tan importantes como en un caso de regresión.\n",
    "\n",
    "- Auditoría y trazabilidad: Loggear esta visualización de correlación con nuestra ejecución principal de MLflow garantiza la trazabilidad. Proporciona una instantánea de las características de los datos en el momento del entrenamiento del modelo, lo cual es invaluable para propósitos de auditoría y replicabilidad."
   ]
  },
  {
   "cell_type": "code",
   "metadata": {
    "ExecuteTime": {
     "end_time": "2024-12-13T21:13:43.293555Z",
     "start_time": "2024-12-13T21:13:42.608425Z"
    }
   },
   "source": [
    "from plots import plot_correlation_with_target, plot_information_gain_with_target"
   ],
   "outputs": [],
   "execution_count": 5
  },
  {
   "cell_type": "code",
   "metadata": {
    "ExecuteTime": {
     "end_time": "2024-12-13T21:13:43.553280Z",
     "start_time": "2024-12-13T21:13:43.304021Z"
    }
   },
   "source": [
    "# Dado que estamos usando como tracking a MLFlow, mostrar los gráficos aquí no tiene sentido.\n",
    "correlation_plot = plot_correlation_with_target(X_train, y_train)\n",
    "information_gain_plot = plot_information_gain_with_target(X_train, y_train)"
   ],
   "outputs": [],
   "execution_count": 6
  },
  {
   "cell_type": "markdown",
   "metadata": {},
   "source": [
    "## Arrancamos a experimentar"
   ]
  },
  {
   "cell_type": "code",
   "metadata": {
    "ExecuteTime": {
     "end_time": "2024-12-13T21:13:43.615848Z",
     "start_time": "2024-12-13T21:13:43.562133Z"
    }
   },
   "source": [
    "import datetime\n",
    "import optuna\n",
    "\n",
    "from mlflow.models import infer_signature\n",
    "from mlflow_aux import get_or_create_experiment\n",
    "\n",
    "from optuna_aux import champion_callback, objective\n",
    "\n",
    "from sklearn.svm import SVC \n",
    "from sklearn.tree import DecisionTreeClassifier\n",
    "from sklearn.ensemble import RandomForestClassifier\n",
    "from sklearn.metrics import f1_score\n",
    "\n",
    "# Optuna es un poco verboso, dejamos que solo nos muestre logs de errores\n",
    "optuna.logging.set_verbosity(optuna.logging.ERROR)"
   ],
   "outputs": [],
   "execution_count": 7
  },
  {
   "cell_type": "markdown",
   "metadata": {},
   "source": [
    "Antes de poder realizar experimentos, vamos a crear el experimento en MLFLow, pero para evitar desorden, vamos a usar una función que se fije primero si el experimento existe, si esto es así, devuelve su ID.\n",
    "\n",
    "Además creamos el nombre del run padre con el que vamos a ir registrando las ejecuciones."
   ]
  },
  {
   "cell_type": "code",
   "metadata": {
    "ExecuteTime": {
     "end_time": "2024-12-13T21:13:43.652474Z",
     "start_time": "2024-12-13T21:13:43.624787Z"
    }
   },
   "source": [
    "# Creemos el experimento\n",
    "experiment_id = get_or_create_experiment(\"Heart Disease\")\n",
    "print(experiment_id)\n",
    "\n",
    "run_name_parent = \"best_hyperparam_\"  + datetime.datetime.today().strftime('%Y/%m/%d-%H:%M:%S\"')"
   ],
   "outputs": [
    {
     "name": "stdout",
     "output_type": "stream",
     "text": [
      "1\n"
     ]
    }
   ],
   "execution_count": 8
  },
  {
   "cell_type": "markdown",
   "metadata": {},
   "source": [
    "Ya con todo seteado, vamos a ejecutar la optimización usando Optuna, el cual realiza una búsqueda Bayesiana, la cual es más eficiente que una búsqueda de grilla tradicional. La desventaja es que es más difícil de paralelizar."
   ]
  },
  {
   "cell_type": "code",
   "metadata": {
    "ExecuteTime": {
     "end_time": "2024-12-13T21:14:01.734825Z",
     "start_time": "2024-12-13T21:13:43.679564Z"
    }
   },
   "source": [
    "with mlflow.start_run(experiment_id=experiment_id, run_name=run_name_parent, nested=True):\n",
    "    # Inicializamos el estudio de Optuna\n",
    "    study = optuna.create_study(direction=\"maximize\")\n",
    "\n",
    "    # Ejecutamos los trials de optimización de hiperparametros. Cada uno de estos trials se ejecuta con un run separado, pero \n",
    "    # está anidado al run padre.\n",
    "    # Notar la adición del `champion_callback` para controlar qué mensajes mostramos\n",
    "    # Para entender mejor esto ver la documentación de objective y champion_callback en optuna_aux\n",
    "    study.optimize(lambda trial: objective(trial, X_train, y_train, experiment_id), n_trials=250, callbacks=[champion_callback])\n",
    "\n",
    "    # Una vez que terminamos la búsqueda, guardamos los mejores parámetros en el run padre.\n",
    "    mlflow.log_params(study.best_params)\n",
    "    mlflow.log_metric(\"best_train_f1\", study.best_value)\n",
    "\n",
    "    mlflow.set_tags(\n",
    "        tags={\n",
    "            \"project\": \"Heart Disease\",\n",
    "            \"optimizer_engine\": \"optuna\",\n",
    "            \"model_family\": \"sklearn\",\n",
    "            \"feature_set_version\": 1,\n",
    "        }\n",
    "    )\n",
    "\n",
    "    # Una vez que terminamos la búsqueda, nos quedamos con el mejor modelo y lo entrenamos\n",
    "    if study.best_params[\"classifier\"] == \"SVC_linear\":\n",
    "        model = SVC(C=study.best_params[\"svc_c\"], kernel='linear', gamma='scale')\n",
    "    elif study.best_params[\"classifier\"] == \"SVC_poly\":\n",
    "        model = SVC(C=study.best_params[\"svc_c\"], kernel='poly', \n",
    "                    gamma='scale', degree=study.best_params[\"svc_poly_degree\"])\n",
    "    elif study.best_params[\"classifier\"] == \"SVC_rbf\":\n",
    "        model = SVC(C=study.best_params[\"svc_c\"], kernel='rbf', gamma='scale')\n",
    "    elif study.best_params[\"classifier\"] == \"DecisionTreeClassifier\":\n",
    "        model = DecisionTreeClassifier(max_depth=study.best_params[\"tree_max_depth\"])\n",
    "    else:\n",
    "        model = RandomForestClassifier(max_depth=study.best_params[\"rf_max_depth\"], \n",
    "                                       n_estimators=study.best_params[\"rf_n_estimators\"])\n",
    "\n",
    "    model = model.fit(X_train, y_train.to_numpy().ravel())\n",
    "\n",
    "    # Y testeamos el modelo y logueamos el resultado\n",
    "    y_pred = model.predict(X_test)\n",
    "    f1_score = f1_score(y_test.to_numpy().ravel(), y_pred)\n",
    "    mlflow.log_metric(\"test_f1\", f1_score)\n",
    "\n",
    "    # Logueamos los artefactos de las gráficas de correlación y de information_gain\n",
    "    mlflow.log_figure(figure=correlation_plot, artifact_file=\"correlation_plot.png\")\n",
    "    mlflow.log_figure(figure=information_gain_plot, artifact_file=\"information_gain_plot.png\")\n",
    "\n",
    "    # Guardamos el artefacto del modelo\n",
    "    artifact_path = \"model\"\n",
    "\n",
    "    signature = infer_signature(X_train, model.predict(X_train))\n",
    "\n",
    "    mlflow.sklearn.log_model(\n",
    "        sk_model=model,\n",
    "        artifact_path=artifact_path,\n",
    "        signature=signature,\n",
    "        serialization_format='cloudpickle',\n",
    "        registered_model_name=\"heart_disease_model_dev\",\n",
    "        metadata={\"model_data_version\": 1}\n",
    "    )\n",
    "\n",
    "    # Obtenemos la ubicación del modelo guardado en MLFlow\n",
    "    model_uri = mlflow.get_artifact_uri(artifact_path)\n"
   ],
   "outputs": [
    {
     "name": "stdout",
     "output_type": "stream",
     "text": [
      "🏃 View run Trial: 0 at: http://localhost:5000/#/experiments/1/runs/f44f84cdb3e74dad990b86f18d903a07\n",
      "🧪 View experiment at: http://localhost:5000/#/experiments/1\n",
      "Initial trial 0 achieved value: 0.6914787791910946\n",
      "🏃 View run Trial: 1 at: http://localhost:5000/#/experiments/1/runs/0c92b185c95944acb931696b609eb92c\n",
      "🧪 View experiment at: http://localhost:5000/#/experiments/1\n",
      "Trial 1 achieved value: 0.8312102959086272 with  16.8106% improvement\n",
      "🏃 View run Trial: 2 at: http://localhost:5000/#/experiments/1/runs/69bef12bc2a946df8ecee7376d9d5d30\n",
      "🧪 View experiment at: http://localhost:5000/#/experiments/1\n",
      "🏃 View run Trial: 3 at: http://localhost:5000/#/experiments/1/runs/2e41b58ece3f4526a5da0a4febb249ce\n",
      "🧪 View experiment at: http://localhost:5000/#/experiments/1\n",
      "🏃 View run Trial: 4 at: http://localhost:5000/#/experiments/1/runs/ccf5eec7725b4d34a407610d6f7b0e66\n",
      "🧪 View experiment at: http://localhost:5000/#/experiments/1\n",
      "🏃 View run Trial: 5 at: http://localhost:5000/#/experiments/1/runs/7dfcc382400446a3a0b0b7711463bd4d\n",
      "🧪 View experiment at: http://localhost:5000/#/experiments/1\n",
      "Trial 5 achieved value: 0.8436612168319486 with  1.4758% improvement\n",
      "🏃 View run Trial: 6 at: http://localhost:5000/#/experiments/1/runs/6fb5e2a5a88e4c6e9bb0df31907f90a3\n",
      "🧪 View experiment at: http://localhost:5000/#/experiments/1\n",
      "🏃 View run Trial: 7 at: http://localhost:5000/#/experiments/1/runs/ed4cfa21ff5a46a7b6ca3d255bfd622e\n",
      "🧪 View experiment at: http://localhost:5000/#/experiments/1\n",
      "🏃 View run Trial: 8 at: http://localhost:5000/#/experiments/1/runs/dd26dc3e271b413398c32f50701cf901\n",
      "🧪 View experiment at: http://localhost:5000/#/experiments/1\n",
      "🏃 View run Trial: 9 at: http://localhost:5000/#/experiments/1/runs/bf9bec0bf09f4b10b46c8d5d11437223\n",
      "🧪 View experiment at: http://localhost:5000/#/experiments/1\n",
      "🏃 View run Trial: 10 at: http://localhost:5000/#/experiments/1/runs/a7bef7ce34f84346b1f7db9251aeb729\n",
      "🧪 View experiment at: http://localhost:5000/#/experiments/1\n",
      "🏃 View run Trial: 11 at: http://localhost:5000/#/experiments/1/runs/6a4563c1ef9b43c187046c2e08e4fe29\n",
      "🧪 View experiment at: http://localhost:5000/#/experiments/1\n",
      "🏃 View run Trial: 12 at: http://localhost:5000/#/experiments/1/runs/b8dc7bc43149482187fa9e103ea5e77d\n",
      "🧪 View experiment at: http://localhost:5000/#/experiments/1\n",
      "🏃 View run Trial: 13 at: http://localhost:5000/#/experiments/1/runs/f71a0239f0b343198a6caf2b95337459\n",
      "🧪 View experiment at: http://localhost:5000/#/experiments/1\n",
      "🏃 View run Trial: 14 at: http://localhost:5000/#/experiments/1/runs/f6a26c249a9e4df4b843eefae389ca82\n",
      "🧪 View experiment at: http://localhost:5000/#/experiments/1\n",
      "🏃 View run Trial: 15 at: http://localhost:5000/#/experiments/1/runs/34f150f0aa414d98a76a81650467ad63\n",
      "🧪 View experiment at: http://localhost:5000/#/experiments/1\n",
      "🏃 View run Trial: 16 at: http://localhost:5000/#/experiments/1/runs/a48516e37124498bb12bd22ee938eabb\n",
      "🧪 View experiment at: http://localhost:5000/#/experiments/1\n",
      "🏃 View run Trial: 17 at: http://localhost:5000/#/experiments/1/runs/b3d677fd200747779dca5825d4109a98\n",
      "🧪 View experiment at: http://localhost:5000/#/experiments/1\n",
      "🏃 View run Trial: 18 at: http://localhost:5000/#/experiments/1/runs/2b6e3812a731415aa3e3fff067233148\n",
      "🧪 View experiment at: http://localhost:5000/#/experiments/1\n",
      "🏃 View run Trial: 19 at: http://localhost:5000/#/experiments/1/runs/564e470c2dfe477fb292f843562e548e\n",
      "🧪 View experiment at: http://localhost:5000/#/experiments/1\n",
      "🏃 View run Trial: 20 at: http://localhost:5000/#/experiments/1/runs/9968332037c243a8b6e6bc43ccc4e47d\n",
      "🧪 View experiment at: http://localhost:5000/#/experiments/1\n",
      "🏃 View run Trial: 21 at: http://localhost:5000/#/experiments/1/runs/f3673ebdbf434d0fb6413c263a99271c\n",
      "🧪 View experiment at: http://localhost:5000/#/experiments/1\n",
      "🏃 View run Trial: 22 at: http://localhost:5000/#/experiments/1/runs/c7bdb06b6ae1460e96978401d7d887f6\n",
      "🧪 View experiment at: http://localhost:5000/#/experiments/1\n",
      "Trial 22 achieved value: 0.8454156027968608 with  0.2075% improvement\n",
      "🏃 View run Trial: 23 at: http://localhost:5000/#/experiments/1/runs/64d5cbc306c045dbb27076f0150d583b\n",
      "🧪 View experiment at: http://localhost:5000/#/experiments/1\n",
      "🏃 View run Trial: 24 at: http://localhost:5000/#/experiments/1/runs/8b023ee7e206498a8b2b123f6397e3d4\n",
      "🧪 View experiment at: http://localhost:5000/#/experiments/1\n",
      "🏃 View run Trial: 25 at: http://localhost:5000/#/experiments/1/runs/5b10041d380843caa8dc71266650af59\n",
      "🧪 View experiment at: http://localhost:5000/#/experiments/1\n",
      "🏃 View run Trial: 26 at: http://localhost:5000/#/experiments/1/runs/375d847a7c764a4db4051c5a7279b213\n",
      "🧪 View experiment at: http://localhost:5000/#/experiments/1\n",
      "🏃 View run Trial: 27 at: http://localhost:5000/#/experiments/1/runs/ce98d19e76264b68887ec3a789097a79\n",
      "🧪 View experiment at: http://localhost:5000/#/experiments/1\n",
      "🏃 View run Trial: 28 at: http://localhost:5000/#/experiments/1/runs/a7e6ef033a134a4e929ce6a7d7492e74\n",
      "🧪 View experiment at: http://localhost:5000/#/experiments/1\n",
      "🏃 View run Trial: 29 at: http://localhost:5000/#/experiments/1/runs/8e42a494272b4ecfaabce221ced19108\n",
      "🧪 View experiment at: http://localhost:5000/#/experiments/1\n",
      "🏃 View run Trial: 30 at: http://localhost:5000/#/experiments/1/runs/b65678e276154cc999aeb1f1cd66c1dd\n",
      "🧪 View experiment at: http://localhost:5000/#/experiments/1\n",
      "🏃 View run Trial: 31 at: http://localhost:5000/#/experiments/1/runs/73aefcbd67354bf89ed8ec2230091b32\n",
      "🧪 View experiment at: http://localhost:5000/#/experiments/1\n",
      "🏃 View run Trial: 32 at: http://localhost:5000/#/experiments/1/runs/640f3c635c3b4c2c99e3574d08c749eb\n",
      "🧪 View experiment at: http://localhost:5000/#/experiments/1\n",
      "🏃 View run Trial: 33 at: http://localhost:5000/#/experiments/1/runs/0371ba3bb6a141bba43622c5e10a9cf1\n",
      "🧪 View experiment at: http://localhost:5000/#/experiments/1\n",
      "🏃 View run Trial: 34 at: http://localhost:5000/#/experiments/1/runs/c58a26ff24b44de5bb3b3955a40d222b\n",
      "🧪 View experiment at: http://localhost:5000/#/experiments/1\n",
      "🏃 View run Trial: 35 at: http://localhost:5000/#/experiments/1/runs/790490ed559145d4b3bdd7d243c74a8e\n",
      "🧪 View experiment at: http://localhost:5000/#/experiments/1\n",
      "🏃 View run Trial: 36 at: http://localhost:5000/#/experiments/1/runs/213e5c26455249fba1f4880b992a5902\n",
      "🧪 View experiment at: http://localhost:5000/#/experiments/1\n",
      "🏃 View run Trial: 37 at: http://localhost:5000/#/experiments/1/runs/5b8d67299f374d3d85dbc1b6ea1929e6\n",
      "🧪 View experiment at: http://localhost:5000/#/experiments/1\n",
      "🏃 View run Trial: 38 at: http://localhost:5000/#/experiments/1/runs/9b5d2d66993c482881b2bc254945d0ab\n",
      "🧪 View experiment at: http://localhost:5000/#/experiments/1\n",
      "🏃 View run Trial: 39 at: http://localhost:5000/#/experiments/1/runs/897d40b4bdbe4faca795c29a4cedb445\n",
      "🧪 View experiment at: http://localhost:5000/#/experiments/1\n",
      "🏃 View run Trial: 40 at: http://localhost:5000/#/experiments/1/runs/e47d4307be214728ae8de08c48572687\n",
      "🧪 View experiment at: http://localhost:5000/#/experiments/1\n",
      "🏃 View run Trial: 41 at: http://localhost:5000/#/experiments/1/runs/8543d5b3381c41a3a8b77065938055f1\n",
      "🧪 View experiment at: http://localhost:5000/#/experiments/1\n",
      "🏃 View run Trial: 42 at: http://localhost:5000/#/experiments/1/runs/2b14cc315b8a4495936eeb6f482b1117\n",
      "🧪 View experiment at: http://localhost:5000/#/experiments/1\n",
      "🏃 View run Trial: 43 at: http://localhost:5000/#/experiments/1/runs/3a962b63558848a3a1b4623296b13328\n",
      "🧪 View experiment at: http://localhost:5000/#/experiments/1\n",
      "🏃 View run Trial: 44 at: http://localhost:5000/#/experiments/1/runs/353c4672506640cfbeeb12a80d131734\n",
      "🧪 View experiment at: http://localhost:5000/#/experiments/1\n",
      "🏃 View run Trial: 45 at: http://localhost:5000/#/experiments/1/runs/56de285be35a4bcfb44ef98eea5fa20f\n",
      "🧪 View experiment at: http://localhost:5000/#/experiments/1\n",
      "🏃 View run Trial: 46 at: http://localhost:5000/#/experiments/1/runs/cf4b150eec11406590c708776717e4bf\n",
      "🧪 View experiment at: http://localhost:5000/#/experiments/1\n",
      "🏃 View run Trial: 47 at: http://localhost:5000/#/experiments/1/runs/df57564d084b48c2b364b5f71a33cc2a\n",
      "🧪 View experiment at: http://localhost:5000/#/experiments/1\n",
      "🏃 View run Trial: 48 at: http://localhost:5000/#/experiments/1/runs/2dafb8f1c8dd471d8b815b212a71d727\n",
      "🧪 View experiment at: http://localhost:5000/#/experiments/1\n",
      "🏃 View run Trial: 49 at: http://localhost:5000/#/experiments/1/runs/c00d7d3d3e0746d695f31a426a36a5e6\n",
      "🧪 View experiment at: http://localhost:5000/#/experiments/1\n",
      "🏃 View run Trial: 50 at: http://localhost:5000/#/experiments/1/runs/32a9cebbdb6d43e6927a1994f6a28f29\n",
      "🧪 View experiment at: http://localhost:5000/#/experiments/1\n",
      "🏃 View run Trial: 51 at: http://localhost:5000/#/experiments/1/runs/365238d7cbd94e66930248d60a3ed208\n",
      "🧪 View experiment at: http://localhost:5000/#/experiments/1\n",
      "🏃 View run Trial: 52 at: http://localhost:5000/#/experiments/1/runs/acb96299b18e4461bf5ed3262cd78370\n",
      "🧪 View experiment at: http://localhost:5000/#/experiments/1\n",
      "🏃 View run Trial: 53 at: http://localhost:5000/#/experiments/1/runs/dfd8dd2bd3874f069b53183441473fd7\n",
      "🧪 View experiment at: http://localhost:5000/#/experiments/1\n",
      "🏃 View run Trial: 54 at: http://localhost:5000/#/experiments/1/runs/6abfb16dd96249ee811acf8bd31a0b0c\n",
      "🧪 View experiment at: http://localhost:5000/#/experiments/1\n",
      "🏃 View run Trial: 55 at: http://localhost:5000/#/experiments/1/runs/63375c43f0fc4769a91db1848b4f00c0\n",
      "🧪 View experiment at: http://localhost:5000/#/experiments/1\n",
      "🏃 View run Trial: 56 at: http://localhost:5000/#/experiments/1/runs/c9fcb49a40594784aece45c34979ce19\n",
      "🧪 View experiment at: http://localhost:5000/#/experiments/1\n",
      "🏃 View run Trial: 57 at: http://localhost:5000/#/experiments/1/runs/032cb72c663649c4af2b6710e25f66d6\n",
      "🧪 View experiment at: http://localhost:5000/#/experiments/1\n",
      "🏃 View run Trial: 58 at: http://localhost:5000/#/experiments/1/runs/435d1aefc4884c9393cd89d09e4f42c1\n",
      "🧪 View experiment at: http://localhost:5000/#/experiments/1\n",
      "🏃 View run Trial: 59 at: http://localhost:5000/#/experiments/1/runs/248c60b7ffe44268afeed296324b9149\n",
      "🧪 View experiment at: http://localhost:5000/#/experiments/1\n",
      "🏃 View run Trial: 60 at: http://localhost:5000/#/experiments/1/runs/c70eebad40af4f94a9543bb711093be7\n",
      "🧪 View experiment at: http://localhost:5000/#/experiments/1\n",
      "🏃 View run Trial: 61 at: http://localhost:5000/#/experiments/1/runs/6149f73361c544a28574bc0b8ad02598\n",
      "🧪 View experiment at: http://localhost:5000/#/experiments/1\n",
      "🏃 View run Trial: 62 at: http://localhost:5000/#/experiments/1/runs/4f3d2fe30e684cc5958dd6646d7f9280\n",
      "🧪 View experiment at: http://localhost:5000/#/experiments/1\n",
      "🏃 View run Trial: 63 at: http://localhost:5000/#/experiments/1/runs/7a9cb6f755864e6c8ee024e18c321911\n",
      "🧪 View experiment at: http://localhost:5000/#/experiments/1\n",
      "🏃 View run Trial: 64 at: http://localhost:5000/#/experiments/1/runs/a944ec2bdfb24eebbb694296db9dd55b\n",
      "🧪 View experiment at: http://localhost:5000/#/experiments/1\n",
      "🏃 View run Trial: 65 at: http://localhost:5000/#/experiments/1/runs/d6eccbbcc824449b815c594b01425bb3\n",
      "🧪 View experiment at: http://localhost:5000/#/experiments/1\n",
      "🏃 View run Trial: 66 at: http://localhost:5000/#/experiments/1/runs/ba229e4fef2f45cdbe3a6d96c67e2704\n",
      "🧪 View experiment at: http://localhost:5000/#/experiments/1\n",
      "🏃 View run Trial: 67 at: http://localhost:5000/#/experiments/1/runs/1072ba0cc4a0439a8e1e1dd4073088c0\n",
      "🧪 View experiment at: http://localhost:5000/#/experiments/1\n",
      "🏃 View run Trial: 68 at: http://localhost:5000/#/experiments/1/runs/386b6cf07a1c4f2e971f719b96c38eec\n",
      "🧪 View experiment at: http://localhost:5000/#/experiments/1\n",
      "🏃 View run Trial: 69 at: http://localhost:5000/#/experiments/1/runs/8eaa3729744e495aaab04fb6f6018b6e\n",
      "🧪 View experiment at: http://localhost:5000/#/experiments/1\n",
      "🏃 View run Trial: 70 at: http://localhost:5000/#/experiments/1/runs/048a4f84724d4b00834fb928055c76cb\n",
      "🧪 View experiment at: http://localhost:5000/#/experiments/1\n",
      "🏃 View run Trial: 71 at: http://localhost:5000/#/experiments/1/runs/0a788856b70945cbaf8b136a09f0bdbc\n",
      "🧪 View experiment at: http://localhost:5000/#/experiments/1\n",
      "🏃 View run Trial: 72 at: http://localhost:5000/#/experiments/1/runs/c1de2f94983241d1a8944b500e6ab557\n",
      "🧪 View experiment at: http://localhost:5000/#/experiments/1\n",
      "🏃 View run Trial: 73 at: http://localhost:5000/#/experiments/1/runs/04afd373dda94e9d9d3cdd605904aef1\n",
      "🧪 View experiment at: http://localhost:5000/#/experiments/1\n",
      "🏃 View run Trial: 74 at: http://localhost:5000/#/experiments/1/runs/6f70e3abc028450d97e5edc27105207a\n",
      "🧪 View experiment at: http://localhost:5000/#/experiments/1\n",
      "🏃 View run Trial: 75 at: http://localhost:5000/#/experiments/1/runs/2a12b97e4ba7485eae0b80ac0efa5dbb\n",
      "🧪 View experiment at: http://localhost:5000/#/experiments/1\n",
      "🏃 View run Trial: 76 at: http://localhost:5000/#/experiments/1/runs/a450a9c6492d4d679e13fd650c8665ac\n",
      "🧪 View experiment at: http://localhost:5000/#/experiments/1\n",
      "🏃 View run Trial: 77 at: http://localhost:5000/#/experiments/1/runs/47ff80806a764ad78c3a1e489055eebb\n",
      "🧪 View experiment at: http://localhost:5000/#/experiments/1\n",
      "🏃 View run Trial: 78 at: http://localhost:5000/#/experiments/1/runs/6459d8aadde44e4a804e6aa648550b33\n",
      "🧪 View experiment at: http://localhost:5000/#/experiments/1\n",
      "🏃 View run Trial: 79 at: http://localhost:5000/#/experiments/1/runs/e8f18f24e5c2490a93b03d1fe0e35062\n",
      "🧪 View experiment at: http://localhost:5000/#/experiments/1\n",
      "🏃 View run Trial: 80 at: http://localhost:5000/#/experiments/1/runs/5a53bbb6247f4b539bb9a835d2e3d951\n",
      "🧪 View experiment at: http://localhost:5000/#/experiments/1\n",
      "🏃 View run Trial: 81 at: http://localhost:5000/#/experiments/1/runs/7de2ac9d77e9490e8337f90bd1d10ecc\n",
      "🧪 View experiment at: http://localhost:5000/#/experiments/1\n",
      "🏃 View run Trial: 82 at: http://localhost:5000/#/experiments/1/runs/9c3d28afc2dd4c6ea97622b278d992ed\n",
      "🧪 View experiment at: http://localhost:5000/#/experiments/1\n",
      "🏃 View run Trial: 83 at: http://localhost:5000/#/experiments/1/runs/b776a35c7bab4341bd2c374009754a03\n",
      "🧪 View experiment at: http://localhost:5000/#/experiments/1\n",
      "Trial 83 achieved value: 0.8512498561279049 with  0.6854% improvement\n",
      "🏃 View run Trial: 84 at: http://localhost:5000/#/experiments/1/runs/92160d3375734b2d9d64c492ad30f79c\n",
      "🧪 View experiment at: http://localhost:5000/#/experiments/1\n",
      "🏃 View run Trial: 85 at: http://localhost:5000/#/experiments/1/runs/0496cfb20cfd449fa4a186396966f4ca\n",
      "🧪 View experiment at: http://localhost:5000/#/experiments/1\n",
      "🏃 View run Trial: 86 at: http://localhost:5000/#/experiments/1/runs/5e4f7f2a5521418e8d636be8499b8cb7\n",
      "🧪 View experiment at: http://localhost:5000/#/experiments/1\n",
      "🏃 View run Trial: 87 at: http://localhost:5000/#/experiments/1/runs/3153ad8212844268a241dae3d83fa044\n",
      "🧪 View experiment at: http://localhost:5000/#/experiments/1\n",
      "🏃 View run Trial: 88 at: http://localhost:5000/#/experiments/1/runs/419fb2141b5c404f9e2e646fc51e1947\n",
      "🧪 View experiment at: http://localhost:5000/#/experiments/1\n",
      "🏃 View run Trial: 89 at: http://localhost:5000/#/experiments/1/runs/05623ab0cc8b4af78523870a94735bb8\n",
      "🧪 View experiment at: http://localhost:5000/#/experiments/1\n",
      "🏃 View run Trial: 90 at: http://localhost:5000/#/experiments/1/runs/4865a9e87db54c6eb2eec59f32de4b81\n",
      "🧪 View experiment at: http://localhost:5000/#/experiments/1\n",
      "🏃 View run Trial: 91 at: http://localhost:5000/#/experiments/1/runs/08a932c99e5e430e998781907c8356a9\n",
      "🧪 View experiment at: http://localhost:5000/#/experiments/1\n",
      "🏃 View run Trial: 92 at: http://localhost:5000/#/experiments/1/runs/6b67f9350e054d3a824fac48e5ffa8b5\n",
      "🧪 View experiment at: http://localhost:5000/#/experiments/1\n",
      "🏃 View run Trial: 93 at: http://localhost:5000/#/experiments/1/runs/57841af11639475da311bb0112b64634\n",
      "🧪 View experiment at: http://localhost:5000/#/experiments/1\n",
      "🏃 View run Trial: 94 at: http://localhost:5000/#/experiments/1/runs/2e3e5d6156234918b38b0ad1c8a3c86e\n",
      "🧪 View experiment at: http://localhost:5000/#/experiments/1\n",
      "🏃 View run Trial: 95 at: http://localhost:5000/#/experiments/1/runs/ef90dd3971d44c97b353a34d3c74a3a7\n",
      "🧪 View experiment at: http://localhost:5000/#/experiments/1\n",
      "🏃 View run Trial: 96 at: http://localhost:5000/#/experiments/1/runs/8f01e65a46fb46ac9e03207b8878c942\n",
      "🧪 View experiment at: http://localhost:5000/#/experiments/1\n",
      "🏃 View run Trial: 97 at: http://localhost:5000/#/experiments/1/runs/8295a8b199b64677b670ae63aa7f716f\n",
      "🧪 View experiment at: http://localhost:5000/#/experiments/1\n",
      "🏃 View run Trial: 98 at: http://localhost:5000/#/experiments/1/runs/9239f9581776430cbe1dffbb4776e797\n",
      "🧪 View experiment at: http://localhost:5000/#/experiments/1\n",
      "🏃 View run Trial: 99 at: http://localhost:5000/#/experiments/1/runs/033f527ad4234c0caf4baa2eb93607db\n",
      "🧪 View experiment at: http://localhost:5000/#/experiments/1\n",
      "🏃 View run Trial: 100 at: http://localhost:5000/#/experiments/1/runs/68ffbf6218fc4b3abb1aeffbf27466d8\n",
      "🧪 View experiment at: http://localhost:5000/#/experiments/1\n",
      "🏃 View run Trial: 101 at: http://localhost:5000/#/experiments/1/runs/bcca0883271644de81d8683689e27b72\n",
      "🧪 View experiment at: http://localhost:5000/#/experiments/1\n",
      "🏃 View run Trial: 102 at: http://localhost:5000/#/experiments/1/runs/20ee94c60744460fac514e82fecdc275\n",
      "🧪 View experiment at: http://localhost:5000/#/experiments/1\n",
      "🏃 View run Trial: 103 at: http://localhost:5000/#/experiments/1/runs/fb8c46c42b8a431297c0f58a06aa6444\n",
      "🧪 View experiment at: http://localhost:5000/#/experiments/1\n",
      "🏃 View run Trial: 104 at: http://localhost:5000/#/experiments/1/runs/33319949359c4005ba6a975f9af6df6f\n",
      "🧪 View experiment at: http://localhost:5000/#/experiments/1\n",
      "🏃 View run Trial: 105 at: http://localhost:5000/#/experiments/1/runs/65fd4161f9b44312ab3a9018d2b042d4\n",
      "🧪 View experiment at: http://localhost:5000/#/experiments/1\n",
      "🏃 View run Trial: 106 at: http://localhost:5000/#/experiments/1/runs/7a3e2b31a8f14cd18167ec8fe9620e6c\n",
      "🧪 View experiment at: http://localhost:5000/#/experiments/1\n",
      "🏃 View run Trial: 107 at: http://localhost:5000/#/experiments/1/runs/e97f3aaecc254cb9b4116dd61c5473e8\n",
      "🧪 View experiment at: http://localhost:5000/#/experiments/1\n",
      "🏃 View run Trial: 108 at: http://localhost:5000/#/experiments/1/runs/e741248554e54fecbba8469af1c78fba\n",
      "🧪 View experiment at: http://localhost:5000/#/experiments/1\n",
      "Trial 108 achieved value: 0.8551522951522952 with  0.4563% improvement\n",
      "🏃 View run Trial: 109 at: http://localhost:5000/#/experiments/1/runs/14b815849c3f4fd1800b0c5ffc74a496\n",
      "🧪 View experiment at: http://localhost:5000/#/experiments/1\n",
      "🏃 View run Trial: 110 at: http://localhost:5000/#/experiments/1/runs/079a31cf0b5f4aa2846c97436676300d\n",
      "🧪 View experiment at: http://localhost:5000/#/experiments/1\n",
      "🏃 View run Trial: 111 at: http://localhost:5000/#/experiments/1/runs/27fb76d4c8a2434e98e6ef9fde358f1c\n",
      "🧪 View experiment at: http://localhost:5000/#/experiments/1\n",
      "🏃 View run Trial: 112 at: http://localhost:5000/#/experiments/1/runs/ec294222d21648c4836ee901df5403bc\n",
      "🧪 View experiment at: http://localhost:5000/#/experiments/1\n",
      "🏃 View run Trial: 113 at: http://localhost:5000/#/experiments/1/runs/5d82435ae9a949248ceab5cf488e7bd5\n",
      "🧪 View experiment at: http://localhost:5000/#/experiments/1\n",
      "🏃 View run Trial: 114 at: http://localhost:5000/#/experiments/1/runs/60aa45ba151445c29ab2b46e224411ac\n",
      "🧪 View experiment at: http://localhost:5000/#/experiments/1\n",
      "🏃 View run Trial: 115 at: http://localhost:5000/#/experiments/1/runs/62a37f4ecd8d4dbfaf5331816b8599ed\n",
      "🧪 View experiment at: http://localhost:5000/#/experiments/1\n",
      "🏃 View run Trial: 116 at: http://localhost:5000/#/experiments/1/runs/889734622c1143729c9cfa81c2e8bcc2\n",
      "🧪 View experiment at: http://localhost:5000/#/experiments/1\n",
      "🏃 View run Trial: 117 at: http://localhost:5000/#/experiments/1/runs/7da617e5c460431baa009fa3d3e060e2\n",
      "🧪 View experiment at: http://localhost:5000/#/experiments/1\n",
      "🏃 View run Trial: 118 at: http://localhost:5000/#/experiments/1/runs/586bb6de5029406a8e5f91db9211d1b3\n",
      "🧪 View experiment at: http://localhost:5000/#/experiments/1\n",
      "🏃 View run Trial: 119 at: http://localhost:5000/#/experiments/1/runs/5c642881f7f24bc79b07f1c5eeb4a755\n",
      "🧪 View experiment at: http://localhost:5000/#/experiments/1\n",
      "🏃 View run Trial: 120 at: http://localhost:5000/#/experiments/1/runs/1d4e2924a62a408d936f8d7152718014\n",
      "🧪 View experiment at: http://localhost:5000/#/experiments/1\n",
      "🏃 View run Trial: 121 at: http://localhost:5000/#/experiments/1/runs/d62133c289b84f3daf45e070161a7cad\n",
      "🧪 View experiment at: http://localhost:5000/#/experiments/1\n",
      "🏃 View run Trial: 122 at: http://localhost:5000/#/experiments/1/runs/dfbe678b20204f1f8d6d6ae0db2d23cb\n",
      "🧪 View experiment at: http://localhost:5000/#/experiments/1\n",
      "🏃 View run Trial: 123 at: http://localhost:5000/#/experiments/1/runs/d378da4b7c8944dda06e8dbb4d474c7c\n",
      "🧪 View experiment at: http://localhost:5000/#/experiments/1\n",
      "🏃 View run Trial: 124 at: http://localhost:5000/#/experiments/1/runs/a26140e2c6be40ad93dcc09cfc770da1\n",
      "🧪 View experiment at: http://localhost:5000/#/experiments/1\n",
      "🏃 View run Trial: 125 at: http://localhost:5000/#/experiments/1/runs/ba49f8c0776e4e1090476dc83efdb431\n",
      "🧪 View experiment at: http://localhost:5000/#/experiments/1\n",
      "🏃 View run Trial: 126 at: http://localhost:5000/#/experiments/1/runs/2b1a33d36d75451d918ddc8fe9ef8174\n",
      "🧪 View experiment at: http://localhost:5000/#/experiments/1\n",
      "🏃 View run Trial: 127 at: http://localhost:5000/#/experiments/1/runs/6f36a1f7de864448ad4b3fa69d33342b\n",
      "🧪 View experiment at: http://localhost:5000/#/experiments/1\n",
      "🏃 View run Trial: 128 at: http://localhost:5000/#/experiments/1/runs/3422ae9c97b04a7299e648a0d34dc388\n",
      "🧪 View experiment at: http://localhost:5000/#/experiments/1\n",
      "🏃 View run Trial: 129 at: http://localhost:5000/#/experiments/1/runs/c26d4014335c4b338a1f08e8c534bde8\n",
      "🧪 View experiment at: http://localhost:5000/#/experiments/1\n",
      "🏃 View run Trial: 130 at: http://localhost:5000/#/experiments/1/runs/15d4f2d24f4d46869131dfc46e49366d\n",
      "🧪 View experiment at: http://localhost:5000/#/experiments/1\n",
      "🏃 View run Trial: 131 at: http://localhost:5000/#/experiments/1/runs/f9a3bf27c866413c8b679a5723dcc43b\n",
      "🧪 View experiment at: http://localhost:5000/#/experiments/1\n",
      "🏃 View run Trial: 132 at: http://localhost:5000/#/experiments/1/runs/6021188751d04eb899c14701d1fdd67b\n",
      "🧪 View experiment at: http://localhost:5000/#/experiments/1\n",
      "🏃 View run Trial: 133 at: http://localhost:5000/#/experiments/1/runs/96fd9c213b974206ac488db9df9192c5\n",
      "🧪 View experiment at: http://localhost:5000/#/experiments/1\n",
      "🏃 View run Trial: 134 at: http://localhost:5000/#/experiments/1/runs/9cddebe097d54380a27bc4d39afd10e3\n",
      "🧪 View experiment at: http://localhost:5000/#/experiments/1\n",
      "🏃 View run Trial: 135 at: http://localhost:5000/#/experiments/1/runs/29ac3644bfd74f5787098500c4fca498\n",
      "🧪 View experiment at: http://localhost:5000/#/experiments/1\n",
      "🏃 View run Trial: 136 at: http://localhost:5000/#/experiments/1/runs/b850642cf22f4188b95462445aba8553\n",
      "🧪 View experiment at: http://localhost:5000/#/experiments/1\n",
      "🏃 View run Trial: 137 at: http://localhost:5000/#/experiments/1/runs/bb237d93f4734c2ab2a56d48d12728ef\n",
      "🧪 View experiment at: http://localhost:5000/#/experiments/1\n",
      "🏃 View run Trial: 138 at: http://localhost:5000/#/experiments/1/runs/3a51e5f719e34a06bce49c7b9c66de0e\n",
      "🧪 View experiment at: http://localhost:5000/#/experiments/1\n",
      "🏃 View run Trial: 139 at: http://localhost:5000/#/experiments/1/runs/6a37a38f13e343fca4835712d34ff1b2\n",
      "🧪 View experiment at: http://localhost:5000/#/experiments/1\n",
      "🏃 View run Trial: 140 at: http://localhost:5000/#/experiments/1/runs/b2ef7fdd1fd94db490989b93223e8e57\n",
      "🧪 View experiment at: http://localhost:5000/#/experiments/1\n",
      "🏃 View run Trial: 141 at: http://localhost:5000/#/experiments/1/runs/0a8321d16ec8441eb841c51a080c7d3f\n",
      "🧪 View experiment at: http://localhost:5000/#/experiments/1\n",
      "🏃 View run Trial: 142 at: http://localhost:5000/#/experiments/1/runs/a2892326d8654e7d82b177286ec4d6b3\n",
      "🧪 View experiment at: http://localhost:5000/#/experiments/1\n",
      "🏃 View run Trial: 143 at: http://localhost:5000/#/experiments/1/runs/fa217282a2794021a0687c46dc2b7479\n",
      "🧪 View experiment at: http://localhost:5000/#/experiments/1\n",
      "🏃 View run Trial: 144 at: http://localhost:5000/#/experiments/1/runs/b7f203eacc584852b00fd1c685ce0c12\n",
      "🧪 View experiment at: http://localhost:5000/#/experiments/1\n",
      "🏃 View run Trial: 145 at: http://localhost:5000/#/experiments/1/runs/50fc82ea7d8542c7a2b7caebc75ffb78\n",
      "🧪 View experiment at: http://localhost:5000/#/experiments/1\n",
      "🏃 View run Trial: 146 at: http://localhost:5000/#/experiments/1/runs/7f16d06bda344b4789dc2e3790afb2d3\n",
      "🧪 View experiment at: http://localhost:5000/#/experiments/1\n",
      "🏃 View run Trial: 147 at: http://localhost:5000/#/experiments/1/runs/e904addb861449c5928d7e7b523f95e6\n",
      "🧪 View experiment at: http://localhost:5000/#/experiments/1\n",
      "🏃 View run Trial: 148 at: http://localhost:5000/#/experiments/1/runs/a8067cb50c6e41b18290dc2006b8e981\n",
      "🧪 View experiment at: http://localhost:5000/#/experiments/1\n",
      "🏃 View run Trial: 149 at: http://localhost:5000/#/experiments/1/runs/0db4f2a9c3a341ff843f6692a10b7e91\n",
      "🧪 View experiment at: http://localhost:5000/#/experiments/1\n",
      "🏃 View run Trial: 150 at: http://localhost:5000/#/experiments/1/runs/96d6c57006f54a1fb31e0ce16a11ba8c\n",
      "🧪 View experiment at: http://localhost:5000/#/experiments/1\n",
      "🏃 View run Trial: 151 at: http://localhost:5000/#/experiments/1/runs/175d3193deb8436daa493dde19dd5615\n",
      "🧪 View experiment at: http://localhost:5000/#/experiments/1\n",
      "🏃 View run Trial: 152 at: http://localhost:5000/#/experiments/1/runs/ad9e99f3f918443d91ca8bc9cb00396c\n",
      "🧪 View experiment at: http://localhost:5000/#/experiments/1\n",
      "🏃 View run Trial: 153 at: http://localhost:5000/#/experiments/1/runs/803ebcabfbad427984eec6491fc21381\n",
      "🧪 View experiment at: http://localhost:5000/#/experiments/1\n",
      "🏃 View run Trial: 154 at: http://localhost:5000/#/experiments/1/runs/93266065a2544c5a861a9244fe16b51e\n",
      "🧪 View experiment at: http://localhost:5000/#/experiments/1\n",
      "🏃 View run Trial: 155 at: http://localhost:5000/#/experiments/1/runs/9f134681c6334ccf92e8885d0036bf79\n",
      "🧪 View experiment at: http://localhost:5000/#/experiments/1\n",
      "🏃 View run Trial: 156 at: http://localhost:5000/#/experiments/1/runs/7e1dbda8cc724265aae98f137660dc78\n",
      "🧪 View experiment at: http://localhost:5000/#/experiments/1\n",
      "🏃 View run Trial: 157 at: http://localhost:5000/#/experiments/1/runs/e946845cf2d842d6a6170c32da0003e7\n",
      "🧪 View experiment at: http://localhost:5000/#/experiments/1\n",
      "🏃 View run Trial: 158 at: http://localhost:5000/#/experiments/1/runs/b11ff17c43274ec7a82fd2f9bec20516\n",
      "🧪 View experiment at: http://localhost:5000/#/experiments/1\n",
      "🏃 View run Trial: 159 at: http://localhost:5000/#/experiments/1/runs/bfe36873058041548c0de8e9e486bbcf\n",
      "🧪 View experiment at: http://localhost:5000/#/experiments/1\n",
      "🏃 View run Trial: 160 at: http://localhost:5000/#/experiments/1/runs/6e6914daee684bcea3b05df143e16a71\n",
      "🧪 View experiment at: http://localhost:5000/#/experiments/1\n",
      "🏃 View run Trial: 161 at: http://localhost:5000/#/experiments/1/runs/f0c4650533974dd587640b8afb26b77d\n",
      "🧪 View experiment at: http://localhost:5000/#/experiments/1\n",
      "🏃 View run Trial: 162 at: http://localhost:5000/#/experiments/1/runs/62f97611872f4625872027e86afe8d77\n",
      "🧪 View experiment at: http://localhost:5000/#/experiments/1\n",
      "🏃 View run Trial: 163 at: http://localhost:5000/#/experiments/1/runs/65473a0eea9747ef8dc277dafd065261\n",
      "🧪 View experiment at: http://localhost:5000/#/experiments/1\n",
      "🏃 View run Trial: 164 at: http://localhost:5000/#/experiments/1/runs/6953534d999c44e3bb0ac82a222c5a9a\n",
      "🧪 View experiment at: http://localhost:5000/#/experiments/1\n",
      "🏃 View run Trial: 165 at: http://localhost:5000/#/experiments/1/runs/a819dbf654e84acf8f63f870b7bb5697\n",
      "🧪 View experiment at: http://localhost:5000/#/experiments/1\n",
      "🏃 View run Trial: 166 at: http://localhost:5000/#/experiments/1/runs/d407498dd91a49bb91c56d73a155d5b5\n",
      "🧪 View experiment at: http://localhost:5000/#/experiments/1\n",
      "🏃 View run Trial: 167 at: http://localhost:5000/#/experiments/1/runs/243582579e8947b4bf29ed153099552a\n",
      "🧪 View experiment at: http://localhost:5000/#/experiments/1\n",
      "🏃 View run Trial: 168 at: http://localhost:5000/#/experiments/1/runs/8a79b1df678f4c7db17dfdeee04bbd4c\n",
      "🧪 View experiment at: http://localhost:5000/#/experiments/1\n",
      "🏃 View run Trial: 169 at: http://localhost:5000/#/experiments/1/runs/78a5c1c65ac34be2bfa0581277cfa66c\n",
      "🧪 View experiment at: http://localhost:5000/#/experiments/1\n",
      "🏃 View run Trial: 170 at: http://localhost:5000/#/experiments/1/runs/6cca7303f8694c07aa9f59beb7683414\n",
      "🧪 View experiment at: http://localhost:5000/#/experiments/1\n",
      "🏃 View run Trial: 171 at: http://localhost:5000/#/experiments/1/runs/ed17d1f5b2ab4c13a3f1cc904a48d649\n",
      "🧪 View experiment at: http://localhost:5000/#/experiments/1\n",
      "🏃 View run Trial: 172 at: http://localhost:5000/#/experiments/1/runs/e5efc604c55d46a7b24a787cc02a2be5\n",
      "🧪 View experiment at: http://localhost:5000/#/experiments/1\n",
      "🏃 View run Trial: 173 at: http://localhost:5000/#/experiments/1/runs/56702e7d3a4c4ef69cac49c1987e4445\n",
      "🧪 View experiment at: http://localhost:5000/#/experiments/1\n",
      "🏃 View run Trial: 174 at: http://localhost:5000/#/experiments/1/runs/756a1a103b50487a873cc10c88800b9c\n",
      "🧪 View experiment at: http://localhost:5000/#/experiments/1\n",
      "🏃 View run Trial: 175 at: http://localhost:5000/#/experiments/1/runs/00cda9fcf0c54dfbbea4b5b2ba7ec42e\n",
      "🧪 View experiment at: http://localhost:5000/#/experiments/1\n",
      "🏃 View run Trial: 176 at: http://localhost:5000/#/experiments/1/runs/5c5f1e01c62b4f8a815c3d575d7c6cd6\n",
      "🧪 View experiment at: http://localhost:5000/#/experiments/1\n",
      "🏃 View run Trial: 177 at: http://localhost:5000/#/experiments/1/runs/1faca5517afb4dcf96d48cb54bf9c38b\n",
      "🧪 View experiment at: http://localhost:5000/#/experiments/1\n",
      "🏃 View run Trial: 178 at: http://localhost:5000/#/experiments/1/runs/2673cf7391884666bc08a221fdf705c8\n",
      "🧪 View experiment at: http://localhost:5000/#/experiments/1\n",
      "🏃 View run Trial: 179 at: http://localhost:5000/#/experiments/1/runs/2d8ce4eaee0c40ce855635d7a693cab8\n",
      "🧪 View experiment at: http://localhost:5000/#/experiments/1\n",
      "🏃 View run Trial: 180 at: http://localhost:5000/#/experiments/1/runs/6fda0f2e70c04bac81f2803bc1e65161\n",
      "🧪 View experiment at: http://localhost:5000/#/experiments/1\n",
      "🏃 View run Trial: 181 at: http://localhost:5000/#/experiments/1/runs/b1c801e5f54848339010c874804397e8\n",
      "🧪 View experiment at: http://localhost:5000/#/experiments/1\n",
      "🏃 View run Trial: 182 at: http://localhost:5000/#/experiments/1/runs/218fc005093b45d788503bf767213a72\n",
      "🧪 View experiment at: http://localhost:5000/#/experiments/1\n",
      "🏃 View run Trial: 183 at: http://localhost:5000/#/experiments/1/runs/8693d4a2e2a54275b2edddf900638f16\n",
      "🧪 View experiment at: http://localhost:5000/#/experiments/1\n",
      "🏃 View run Trial: 184 at: http://localhost:5000/#/experiments/1/runs/43cde4817c714095b4532871487b3511\n",
      "🧪 View experiment at: http://localhost:5000/#/experiments/1\n",
      "🏃 View run Trial: 185 at: http://localhost:5000/#/experiments/1/runs/98a6a2fa034c47e08c92b0c950e4f60f\n",
      "🧪 View experiment at: http://localhost:5000/#/experiments/1\n",
      "🏃 View run Trial: 186 at: http://localhost:5000/#/experiments/1/runs/05fbdf8d059f4032ac2900232c147b9b\n",
      "🧪 View experiment at: http://localhost:5000/#/experiments/1\n",
      "🏃 View run Trial: 187 at: http://localhost:5000/#/experiments/1/runs/e3ae963edd08444b8a575a697c045355\n",
      "🧪 View experiment at: http://localhost:5000/#/experiments/1\n",
      "🏃 View run Trial: 188 at: http://localhost:5000/#/experiments/1/runs/b33fc1671eb94f348085583c41cb0aff\n",
      "🧪 View experiment at: http://localhost:5000/#/experiments/1\n",
      "🏃 View run Trial: 189 at: http://localhost:5000/#/experiments/1/runs/007159d3bb6b4381936ee536f29f8649\n",
      "🧪 View experiment at: http://localhost:5000/#/experiments/1\n",
      "🏃 View run Trial: 190 at: http://localhost:5000/#/experiments/1/runs/ab812755b989475797f5267b57a4546d\n",
      "🧪 View experiment at: http://localhost:5000/#/experiments/1\n",
      "🏃 View run Trial: 191 at: http://localhost:5000/#/experiments/1/runs/bb0176c2f49a41d5a9133d6e30fd7cd5\n",
      "🧪 View experiment at: http://localhost:5000/#/experiments/1\n",
      "🏃 View run Trial: 192 at: http://localhost:5000/#/experiments/1/runs/e83d0be15bab415399cd603d12cd5c50\n",
      "🧪 View experiment at: http://localhost:5000/#/experiments/1\n",
      "🏃 View run Trial: 193 at: http://localhost:5000/#/experiments/1/runs/8704660533ad42438c6e763525fff8c2\n",
      "🧪 View experiment at: http://localhost:5000/#/experiments/1\n",
      "🏃 View run Trial: 194 at: http://localhost:5000/#/experiments/1/runs/ca0c012ff3ab45d29c374c5cc0cc22ae\n",
      "🧪 View experiment at: http://localhost:5000/#/experiments/1\n",
      "🏃 View run Trial: 195 at: http://localhost:5000/#/experiments/1/runs/7d0bad9edb5a4072864b655896198b24\n",
      "🧪 View experiment at: http://localhost:5000/#/experiments/1\n",
      "🏃 View run Trial: 196 at: http://localhost:5000/#/experiments/1/runs/3ec3b6a6c4d04c918ba2a6f6a4546e47\n",
      "🧪 View experiment at: http://localhost:5000/#/experiments/1\n",
      "🏃 View run Trial: 197 at: http://localhost:5000/#/experiments/1/runs/75a04e043824460a8fd213ae22dbe0b6\n",
      "🧪 View experiment at: http://localhost:5000/#/experiments/1\n",
      "🏃 View run Trial: 198 at: http://localhost:5000/#/experiments/1/runs/98dc06b712544b5aad0e658ba0cee1a9\n",
      "🧪 View experiment at: http://localhost:5000/#/experiments/1\n",
      "🏃 View run Trial: 199 at: http://localhost:5000/#/experiments/1/runs/94246f8e01014b02a75067ef9164926d\n",
      "🧪 View experiment at: http://localhost:5000/#/experiments/1\n",
      "🏃 View run Trial: 200 at: http://localhost:5000/#/experiments/1/runs/8ed31d1a65c04aa2bc808c2e078d7dbc\n",
      "🧪 View experiment at: http://localhost:5000/#/experiments/1\n",
      "🏃 View run Trial: 201 at: http://localhost:5000/#/experiments/1/runs/6d97909dd9504c8aa7e6092eba4b5409\n",
      "🧪 View experiment at: http://localhost:5000/#/experiments/1\n",
      "🏃 View run Trial: 202 at: http://localhost:5000/#/experiments/1/runs/38b71d222aad410ab70522d98d3316be\n",
      "🧪 View experiment at: http://localhost:5000/#/experiments/1\n",
      "🏃 View run Trial: 203 at: http://localhost:5000/#/experiments/1/runs/761818d7f3dc46e39745c60dab9fbdd0\n",
      "🧪 View experiment at: http://localhost:5000/#/experiments/1\n",
      "🏃 View run Trial: 204 at: http://localhost:5000/#/experiments/1/runs/233bb0ac183a439d8140f42d628cb60d\n",
      "🧪 View experiment at: http://localhost:5000/#/experiments/1\n",
      "🏃 View run Trial: 205 at: http://localhost:5000/#/experiments/1/runs/d24f4916f52b4ca3bf951f5b6cb700d3\n",
      "🧪 View experiment at: http://localhost:5000/#/experiments/1\n",
      "🏃 View run Trial: 206 at: http://localhost:5000/#/experiments/1/runs/16f42f2e51b34089b4c89432e9737567\n",
      "🧪 View experiment at: http://localhost:5000/#/experiments/1\n",
      "🏃 View run Trial: 207 at: http://localhost:5000/#/experiments/1/runs/beebefba784d42db8cc2a11abb5d31fc\n",
      "🧪 View experiment at: http://localhost:5000/#/experiments/1\n",
      "🏃 View run Trial: 208 at: http://localhost:5000/#/experiments/1/runs/c0c419bf0b744d569a8615e0e856667a\n",
      "🧪 View experiment at: http://localhost:5000/#/experiments/1\n",
      "🏃 View run Trial: 209 at: http://localhost:5000/#/experiments/1/runs/3eaf88c05fad436497a385b644943226\n",
      "🧪 View experiment at: http://localhost:5000/#/experiments/1\n",
      "🏃 View run Trial: 210 at: http://localhost:5000/#/experiments/1/runs/0dce8e06e11d4203bed8e2f3f8e8d6c0\n",
      "🧪 View experiment at: http://localhost:5000/#/experiments/1\n",
      "🏃 View run Trial: 211 at: http://localhost:5000/#/experiments/1/runs/ea4ae92b69e34cc6a17b8db8cad50714\n",
      "🧪 View experiment at: http://localhost:5000/#/experiments/1\n",
      "🏃 View run Trial: 212 at: http://localhost:5000/#/experiments/1/runs/16894559a6ca42e7a91ce686cd1d7d2e\n",
      "🧪 View experiment at: http://localhost:5000/#/experiments/1\n",
      "🏃 View run Trial: 213 at: http://localhost:5000/#/experiments/1/runs/0c6d7a3408b5400596cb941640a74930\n",
      "🧪 View experiment at: http://localhost:5000/#/experiments/1\n",
      "🏃 View run Trial: 214 at: http://localhost:5000/#/experiments/1/runs/226cfe629bf2421eaea56fe9552fea08\n",
      "🧪 View experiment at: http://localhost:5000/#/experiments/1\n",
      "🏃 View run Trial: 215 at: http://localhost:5000/#/experiments/1/runs/8ee4e2522a5144b1aa4fe24cfeba6e53\n",
      "🧪 View experiment at: http://localhost:5000/#/experiments/1\n",
      "🏃 View run Trial: 216 at: http://localhost:5000/#/experiments/1/runs/ef87bbb77fa740d8846b77a39b7a7e14\n",
      "🧪 View experiment at: http://localhost:5000/#/experiments/1\n",
      "🏃 View run Trial: 217 at: http://localhost:5000/#/experiments/1/runs/3b739c71d56a4820969a13642301be45\n",
      "🧪 View experiment at: http://localhost:5000/#/experiments/1\n",
      "🏃 View run Trial: 218 at: http://localhost:5000/#/experiments/1/runs/258c79c3523e4141902c30d524a33901\n",
      "🧪 View experiment at: http://localhost:5000/#/experiments/1\n",
      "🏃 View run Trial: 219 at: http://localhost:5000/#/experiments/1/runs/ee1c4c9f1463468c8c12561617cad1fb\n",
      "🧪 View experiment at: http://localhost:5000/#/experiments/1\n",
      "🏃 View run Trial: 220 at: http://localhost:5000/#/experiments/1/runs/b50f97888bba456ab464e4cc907ba7e3\n",
      "🧪 View experiment at: http://localhost:5000/#/experiments/1\n",
      "🏃 View run Trial: 221 at: http://localhost:5000/#/experiments/1/runs/967abd3bbcde4a41822fad425aee68bf\n",
      "🧪 View experiment at: http://localhost:5000/#/experiments/1\n",
      "🏃 View run Trial: 222 at: http://localhost:5000/#/experiments/1/runs/1d3e64d10d7f4eeb92df0d542984dc81\n",
      "🧪 View experiment at: http://localhost:5000/#/experiments/1\n",
      "🏃 View run Trial: 223 at: http://localhost:5000/#/experiments/1/runs/092f3ad22f53495bb2c4f4545eddbff2\n",
      "🧪 View experiment at: http://localhost:5000/#/experiments/1\n",
      "🏃 View run Trial: 224 at: http://localhost:5000/#/experiments/1/runs/782662f645364149836b248d064f9091\n",
      "🧪 View experiment at: http://localhost:5000/#/experiments/1\n",
      "🏃 View run Trial: 225 at: http://localhost:5000/#/experiments/1/runs/69360a371fca46dd9618c1ea42b8442c\n",
      "🧪 View experiment at: http://localhost:5000/#/experiments/1\n",
      "🏃 View run Trial: 226 at: http://localhost:5000/#/experiments/1/runs/401c2113849d4dab95d97850011dfcd3\n",
      "🧪 View experiment at: http://localhost:5000/#/experiments/1\n",
      "🏃 View run Trial: 227 at: http://localhost:5000/#/experiments/1/runs/afd1c1654b654498a12903d2565a29c0\n",
      "🧪 View experiment at: http://localhost:5000/#/experiments/1\n",
      "🏃 View run Trial: 228 at: http://localhost:5000/#/experiments/1/runs/8d45bd47728c4a0caef0251aca924f5b\n",
      "🧪 View experiment at: http://localhost:5000/#/experiments/1\n",
      "🏃 View run Trial: 229 at: http://localhost:5000/#/experiments/1/runs/7afca25b7217431e930c78a6e162af34\n",
      "🧪 View experiment at: http://localhost:5000/#/experiments/1\n",
      "🏃 View run Trial: 230 at: http://localhost:5000/#/experiments/1/runs/9a749d4deaf4405796f5c2c2400f3a05\n",
      "🧪 View experiment at: http://localhost:5000/#/experiments/1\n",
      "🏃 View run Trial: 231 at: http://localhost:5000/#/experiments/1/runs/1030bb80cc734a3b8821d258c653fdaf\n",
      "🧪 View experiment at: http://localhost:5000/#/experiments/1\n",
      "🏃 View run Trial: 232 at: http://localhost:5000/#/experiments/1/runs/794810267876479895b15d2f1aa73800\n",
      "🧪 View experiment at: http://localhost:5000/#/experiments/1\n",
      "🏃 View run Trial: 233 at: http://localhost:5000/#/experiments/1/runs/aabefb05eebc4f4e8eb2a35e0e76447e\n",
      "🧪 View experiment at: http://localhost:5000/#/experiments/1\n",
      "🏃 View run Trial: 234 at: http://localhost:5000/#/experiments/1/runs/531420295ea24b599ca3a80a643f0c24\n",
      "🧪 View experiment at: http://localhost:5000/#/experiments/1\n",
      "🏃 View run Trial: 235 at: http://localhost:5000/#/experiments/1/runs/c57c285108514b359076f88537b9f56c\n",
      "🧪 View experiment at: http://localhost:5000/#/experiments/1\n",
      "🏃 View run Trial: 236 at: http://localhost:5000/#/experiments/1/runs/2aa20c791110464aabdeab56c4f6d1fb\n",
      "🧪 View experiment at: http://localhost:5000/#/experiments/1\n",
      "🏃 View run Trial: 237 at: http://localhost:5000/#/experiments/1/runs/d83d3c5fc0454f54beab46a583ce79a5\n",
      "🧪 View experiment at: http://localhost:5000/#/experiments/1\n",
      "🏃 View run Trial: 238 at: http://localhost:5000/#/experiments/1/runs/9f67dce3ce6b479c83b4466faf4201f0\n",
      "🧪 View experiment at: http://localhost:5000/#/experiments/1\n",
      "🏃 View run Trial: 239 at: http://localhost:5000/#/experiments/1/runs/bdf4c0836c6a4de7861a667ed11f2556\n",
      "🧪 View experiment at: http://localhost:5000/#/experiments/1\n",
      "🏃 View run Trial: 240 at: http://localhost:5000/#/experiments/1/runs/cbc46f03e09c4f3b9277f99db85b3234\n",
      "🧪 View experiment at: http://localhost:5000/#/experiments/1\n",
      "🏃 View run Trial: 241 at: http://localhost:5000/#/experiments/1/runs/cf4d9cd558254be287f3d2c1ebedd24a\n",
      "🧪 View experiment at: http://localhost:5000/#/experiments/1\n",
      "🏃 View run Trial: 242 at: http://localhost:5000/#/experiments/1/runs/5fcad1982f984bb89fa37bdf5a31414b\n",
      "🧪 View experiment at: http://localhost:5000/#/experiments/1\n",
      "🏃 View run Trial: 243 at: http://localhost:5000/#/experiments/1/runs/5ed9c06bb48f4e70a7e860884aa040e9\n",
      "🧪 View experiment at: http://localhost:5000/#/experiments/1\n",
      "🏃 View run Trial: 244 at: http://localhost:5000/#/experiments/1/runs/29d3443ea2934ba791b663d9a3c8b04c\n",
      "🧪 View experiment at: http://localhost:5000/#/experiments/1\n",
      "🏃 View run Trial: 245 at: http://localhost:5000/#/experiments/1/runs/de69e1f996c641b29af36369d926bc6d\n",
      "🧪 View experiment at: http://localhost:5000/#/experiments/1\n",
      "🏃 View run Trial: 246 at: http://localhost:5000/#/experiments/1/runs/98eebce78a454ce6af745bc71107dc40\n",
      "🧪 View experiment at: http://localhost:5000/#/experiments/1\n",
      "🏃 View run Trial: 247 at: http://localhost:5000/#/experiments/1/runs/fb3d25d1c2dd4d7690ccc43767bdab17\n",
      "🧪 View experiment at: http://localhost:5000/#/experiments/1\n",
      "🏃 View run Trial: 248 at: http://localhost:5000/#/experiments/1/runs/1a5a621d43f14da4ba71a1726764a4f4\n",
      "🧪 View experiment at: http://localhost:5000/#/experiments/1\n",
      "🏃 View run Trial: 249 at: http://localhost:5000/#/experiments/1/runs/5320b87e966545afa78252715aab197c\n",
      "🧪 View experiment at: http://localhost:5000/#/experiments/1\n"
     ]
    },
    {
     "name": "stderr",
     "output_type": "stream",
     "text": [
      "Successfully registered model 'heart_disease_model_dev'.\n",
      "2024/12/13 18:14:01 INFO mlflow.store.model_registry.abstract_store: Waiting up to 300 seconds for model version to finish creation. Model name: heart_disease_model_dev, version 1\n"
     ]
    },
    {
     "name": "stdout",
     "output_type": "stream",
     "text": [
      "🏃 View run best_hyperparam_2024/12/13-18:13:43\" at: http://localhost:5000/#/experiments/1/runs/f9a24815ae5646a497395a1b30d88133\n",
      "🧪 View experiment at: http://localhost:5000/#/experiments/1\n"
     ]
    },
    {
     "name": "stderr",
     "output_type": "stream",
     "text": [
      "Created version '1' of model 'heart_disease_model_dev'.\n"
     ]
    }
   ],
   "execution_count": 9
  },
  {
   "cell_type": "markdown",
   "metadata": {},
   "source": [
    "## Testeando el modelo\n",
    "\n",
    "Una vez que el modelo fue entrenado, podemos levantarlo y testearlo de una forma agnóstica a donde está guardado."
   ]
  },
  {
   "cell_type": "code",
   "metadata": {
    "ExecuteTime": {
     "end_time": "2024-12-13T21:14:01.824965Z",
     "start_time": "2024-12-13T21:14:01.743344Z"
    }
   },
   "source": [
    "loaded = mlflow.sklearn.load_model(model_uri)"
   ],
   "outputs": [
    {
     "data": {
      "text/plain": [
       "Downloading artifacts:   0%|          | 0/5 [00:00<?, ?it/s]"
      ],
      "application/vnd.jupyter.widget-view+json": {
       "version_major": 2,
       "version_minor": 0,
       "model_id": "0e064c7e662747d1b93350f2a95142c3"
      }
     },
     "metadata": {},
     "output_type": "display_data"
    }
   ],
   "execution_count": 10
  },
  {
   "cell_type": "code",
   "metadata": {
    "ExecuteTime": {
     "end_time": "2024-12-13T21:14:01.841356Z",
     "start_time": "2024-12-13T21:14:01.838124Z"
    }
   },
   "source": [
    "import numpy as np\n",
    "test_data = [-1.0431146438366603, 0.6689936080056726, 0.5955141571109206, 1.4218278518511829, -0.3955054753168235,\n",
    "             -0.195684619877533, 1.445528359737701, -0.8782783888787548, -0.4354941703556927, -0.6313862911472252,\n",
    "             1.0752906583803283, -0.0987729596649589, 0.957427107756338, 1.1071614388213236, -0.2991215208080594,\n",
    "             -0.5494422557947561, -0.362142984170074, 4.690415759823429, -0.2253029545296664, 1.1980376111153852]\n",
    "loaded.predict(np.array(test_data).reshape([1, -1]))"
   ],
   "outputs": [
    {
     "name": "stderr",
     "output_type": "stream",
     "text": [
      "/home/juan/anaconda3/envs/CEIA/lib/python3.12/site-packages/sklearn/base.py:493: UserWarning: X does not have valid feature names, but SVC was fitted with feature names\n",
      "  warnings.warn(\n"
     ]
    },
    {
     "data": {
      "text/plain": [
       "array([1])"
      ]
     },
     "execution_count": 11,
     "metadata": {},
     "output_type": "execute_result"
    }
   ],
   "execution_count": 11
  },
  {
   "cell_type": "markdown",
   "metadata": {},
   "source": [
    "## Registramos el modelo \n",
    "\n",
    "Realizamos el registro del modelo en MLflow. En este registro se pone el modelo productivo que luego se usará para servir en formato on-line."
   ]
  },
  {
   "cell_type": "code",
   "metadata": {
    "ExecuteTime": {
     "end_time": "2024-12-13T21:14:01.967960Z",
     "start_time": "2024-12-13T21:14:01.884065Z"
    }
   },
   "source": [
    "from mlflow import MlflowClient\n",
    "\n",
    "client = MlflowClient()\n",
    "name = \"heart_disease_model_prod\"\n",
    "desc = \"This classifier detects if a person has a heart disease\"\n",
    "\n",
    "# Creamos el modelo productivo\n",
    "client.create_registered_model(name=name, description=desc)\n",
    "\n",
    "# Guardamos como tag los hiper-parametros en la version del modelo\n",
    "tags = model.get_params()\n",
    "tags[\"model\"] = type(model).__name__\n",
    "tags[\"f1-score\"] = f1_score\n",
    "\n",
    "# Guardamos la version del modelo\n",
    "result = client.create_model_version(\n",
    "    name=name,\n",
    "    source=model_uri,\n",
    "    run_id=model_uri.split(\"/\")[-3],\n",
    "    tags=tags\n",
    ")\n",
    "\n",
    "# Y creamos como la version con el alias de champion para poder levantarlo en nuestro\n",
    "# proceso de servicio del modelo on-line.\n",
    "client.set_registered_model_alias(name, \"champion\", result.version)"
   ],
   "outputs": [
    {
     "name": "stderr",
     "output_type": "stream",
     "text": [
      "2024/12/13 18:14:01 INFO mlflow.store.model_registry.abstract_store: Waiting up to 300 seconds for model version to finish creation. Model name: heart_disease_model_prod, version 1\n"
     ]
    }
   ],
   "execution_count": 12
  },
  {
   "cell_type": "code",
   "metadata": {
    "collapsed": false,
    "jupyter": {
     "outputs_hidden": false
    },
    "ExecuteTime": {
     "end_time": "2024-12-13T21:14:01.979625Z",
     "start_time": "2024-12-13T21:14:01.978555Z"
    }
   },
   "source": [],
   "outputs": [],
   "execution_count": null
  }
 ],
 "metadata": {
  "kernelspec": {
   "display_name": "Python 3 (ipykernel)",
   "language": "python",
   "name": "python3"
  },
  "language_info": {
   "codemirror_mode": {
    "name": "ipython",
    "version": 3
   },
   "file_extension": ".py",
   "mimetype": "text/x-python",
   "name": "python",
   "nbconvert_exporter": "python",
   "pygments_lexer": "ipython3",
   "version": "3.8.19"
  }
 },
 "nbformat": 4,
 "nbformat_minor": 4
}
